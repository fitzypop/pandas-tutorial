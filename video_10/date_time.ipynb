{
 "metadata": {
  "language_info": {
   "codemirror_mode": {
    "name": "ipython",
    "version": 3
   },
   "file_extension": ".py",
   "mimetype": "text/x-python",
   "name": "python",
   "nbconvert_exporter": "python",
   "pygments_lexer": "ipython3",
   "version": "3.9.5"
  },
  "orig_nbformat": 2,
  "kernelspec": {
   "name": "python395jvsc74a57bd0e48b3f1d990cb72d1944944ad3d71627b5fdd5ce06d90b14b58ee0edc9153770",
   "display_name": "Python 3.9.5 64-bit"
  }
 },
 "nbformat": 4,
 "nbformat_minor": 2,
 "cells": [
  {
   "cell_type": "code",
   "execution_count": 1,
   "metadata": {},
   "outputs": [
    {
     "output_type": "execute_result",
     "data": {
      "text/plain": [
       "                 Date  Symbol    Open    High     Low   Close      Volume\n",
       "0 2020-03-13 20:00:00  ETHUSD  129.94  131.82  126.87  128.71  1940673.93\n",
       "1 2020-03-13 19:00:00  ETHUSD  119.51  132.02  117.10  129.94  7579741.09\n",
       "2 2020-03-13 18:00:00  ETHUSD  124.47  124.85  115.50  119.51  4898735.81\n",
       "3 2020-03-13 17:00:00  ETHUSD  124.08  127.42  121.63  124.47  2753450.92\n",
       "4 2020-03-13 16:00:00  ETHUSD  124.85  129.51  120.17  124.08  4461424.71"
      ],
      "text/html": "<div>\n<style scoped>\n    .dataframe tbody tr th:only-of-type {\n        vertical-align: middle;\n    }\n\n    .dataframe tbody tr th {\n        vertical-align: top;\n    }\n\n    .dataframe thead th {\n        text-align: right;\n    }\n</style>\n<table border=\"1\" class=\"dataframe\">\n  <thead>\n    <tr style=\"text-align: right;\">\n      <th></th>\n      <th>Date</th>\n      <th>Symbol</th>\n      <th>Open</th>\n      <th>High</th>\n      <th>Low</th>\n      <th>Close</th>\n      <th>Volume</th>\n    </tr>\n  </thead>\n  <tbody>\n    <tr>\n      <th>0</th>\n      <td>2020-03-13 20:00:00</td>\n      <td>ETHUSD</td>\n      <td>129.94</td>\n      <td>131.82</td>\n      <td>126.87</td>\n      <td>128.71</td>\n      <td>1940673.93</td>\n    </tr>\n    <tr>\n      <th>1</th>\n      <td>2020-03-13 19:00:00</td>\n      <td>ETHUSD</td>\n      <td>119.51</td>\n      <td>132.02</td>\n      <td>117.10</td>\n      <td>129.94</td>\n      <td>7579741.09</td>\n    </tr>\n    <tr>\n      <th>2</th>\n      <td>2020-03-13 18:00:00</td>\n      <td>ETHUSD</td>\n      <td>124.47</td>\n      <td>124.85</td>\n      <td>115.50</td>\n      <td>119.51</td>\n      <td>4898735.81</td>\n    </tr>\n    <tr>\n      <th>3</th>\n      <td>2020-03-13 17:00:00</td>\n      <td>ETHUSD</td>\n      <td>124.08</td>\n      <td>127.42</td>\n      <td>121.63</td>\n      <td>124.47</td>\n      <td>2753450.92</td>\n    </tr>\n    <tr>\n      <th>4</th>\n      <td>2020-03-13 16:00:00</td>\n      <td>ETHUSD</td>\n      <td>124.85</td>\n      <td>129.51</td>\n      <td>120.17</td>\n      <td>124.08</td>\n      <td>4461424.71</td>\n    </tr>\n  </tbody>\n</table>\n</div>"
     },
     "metadata": {},
     "execution_count": 1
    }
   ],
   "source": [
    "import pandas as pd\n",
    "from datetime import datetime\n",
    "\n",
    "date_format = '%Y-%m-%d %I-%p'\n",
    "\n",
    "# pd.datetime is deprecated\n",
    "# d_parser = lambda x: pd.datetime.strptime(x, date_format)\n",
    "d_parser = lambda x: datetime.strptime(x, date_format)\n",
    "\n",
    "\n",
    "df = pd.read_csv('../data/eth.csv', parse_dates=['Date'], date_parser=d_parser)\n",
    "df.head()"
   ]
  },
  {
   "cell_type": "code",
   "execution_count": 2,
   "metadata": {},
   "outputs": [
    {
     "output_type": "stream",
     "name": "stdout",
     "text": [
      "<class 'pandas.core.frame.DataFrame'>\nRangeIndex: 23674 entries, 0 to 23673\nData columns (total 7 columns):\n #   Column  Non-Null Count  Dtype         \n---  ------  --------------  -----         \n 0   Date    23674 non-null  datetime64[ns]\n 1   Symbol  23674 non-null  object        \n 2   Open    23674 non-null  float64       \n 3   High    23674 non-null  float64       \n 4   Low     23674 non-null  float64       \n 5   Close   23674 non-null  float64       \n 6   Volume  23674 non-null  float64       \ndtypes: datetime64[ns](1), float64(5), object(1)\nmemory usage: 1.3+ MB\n"
     ]
    }
   ],
   "source": [
    "df.info()"
   ]
  },
  {
   "cell_type": "code",
   "execution_count": 3,
   "metadata": {},
   "outputs": [
    {
     "output_type": "execute_result",
     "data": {
      "text/plain": [
       "Timestamp('2020-03-13 20:00:00')"
      ]
     },
     "metadata": {},
     "execution_count": 3
    }
   ],
   "source": [
    "df.loc[0, 'Date']"
   ]
  },
  {
   "cell_type": "code",
   "execution_count": 4,
   "metadata": {},
   "outputs": [],
   "source": [
    "# Convert a whole column in dateframe to datetime objects\n",
    "# df['Date'] = pd.to_datetime(df['Date'], format='%Y-%m-%d %I-%p')"
   ]
  },
  {
   "cell_type": "code",
   "execution_count": 5,
   "metadata": {},
   "outputs": [
    {
     "output_type": "execute_result",
     "data": {
      "text/plain": [
       "'Friday'"
      ]
     },
     "metadata": {},
     "execution_count": 5
    }
   ],
   "source": [
    "df.loc[0, 'Date'].day_name()"
   ]
  },
  {
   "cell_type": "code",
   "execution_count": 6,
   "metadata": {},
   "outputs": [
    {
     "output_type": "execute_result",
     "data": {
      "text/plain": [
       "0          Friday\n",
       "1          Friday\n",
       "2          Friday\n",
       "3          Friday\n",
       "4          Friday\n",
       "           ...   \n",
       "23669    Saturday\n",
       "23670    Saturday\n",
       "23671    Saturday\n",
       "23672    Saturday\n",
       "23673    Saturday\n",
       "Name: Date, Length: 23674, dtype: object"
      ]
     },
     "metadata": {},
     "execution_count": 6
    }
   ],
   "source": [
    "df['Date'].dt.day_name()"
   ]
  },
  {
   "cell_type": "code",
   "execution_count": 7,
   "metadata": {},
   "outputs": [
    {
     "output_type": "execute_result",
     "data": {
      "text/plain": [
       "                     Date  Symbol    Open    High     Low   Close      Volume  \\\n",
       "0     2020-03-13 20:00:00  ETHUSD  129.94  131.82  126.87  128.71  1940673.93   \n",
       "1     2020-03-13 19:00:00  ETHUSD  119.51  132.02  117.10  129.94  7579741.09   \n",
       "2     2020-03-13 18:00:00  ETHUSD  124.47  124.85  115.50  119.51  4898735.81   \n",
       "3     2020-03-13 17:00:00  ETHUSD  124.08  127.42  121.63  124.47  2753450.92   \n",
       "4     2020-03-13 16:00:00  ETHUSD  124.85  129.51  120.17  124.08  4461424.71   \n",
       "...                   ...     ...     ...     ...     ...     ...         ...   \n",
       "23669 2017-07-01 15:00:00  ETHUSD  265.74  272.74  265.00  272.57  1500282.55   \n",
       "23670 2017-07-01 14:00:00  ETHUSD  268.79  269.90  265.00  265.74  1702536.85   \n",
       "23671 2017-07-01 13:00:00  ETHUSD  274.83  274.93  265.00  268.79  3010787.99   \n",
       "23672 2017-07-01 12:00:00  ETHUSD  275.01  275.01  271.00  274.83   824362.87   \n",
       "23673 2017-07-01 11:00:00  ETHUSD  279.98  279.99  272.10  275.01   679358.87   \n",
       "\n",
       "      DayOfWeek  \n",
       "0        Friday  \n",
       "1        Friday  \n",
       "2        Friday  \n",
       "3        Friday  \n",
       "4        Friday  \n",
       "...         ...  \n",
       "23669  Saturday  \n",
       "23670  Saturday  \n",
       "23671  Saturday  \n",
       "23672  Saturday  \n",
       "23673  Saturday  \n",
       "\n",
       "[23674 rows x 8 columns]"
      ],
      "text/html": "<div>\n<style scoped>\n    .dataframe tbody tr th:only-of-type {\n        vertical-align: middle;\n    }\n\n    .dataframe tbody tr th {\n        vertical-align: top;\n    }\n\n    .dataframe thead th {\n        text-align: right;\n    }\n</style>\n<table border=\"1\" class=\"dataframe\">\n  <thead>\n    <tr style=\"text-align: right;\">\n      <th></th>\n      <th>Date</th>\n      <th>Symbol</th>\n      <th>Open</th>\n      <th>High</th>\n      <th>Low</th>\n      <th>Close</th>\n      <th>Volume</th>\n      <th>DayOfWeek</th>\n    </tr>\n  </thead>\n  <tbody>\n    <tr>\n      <th>0</th>\n      <td>2020-03-13 20:00:00</td>\n      <td>ETHUSD</td>\n      <td>129.94</td>\n      <td>131.82</td>\n      <td>126.87</td>\n      <td>128.71</td>\n      <td>1940673.93</td>\n      <td>Friday</td>\n    </tr>\n    <tr>\n      <th>1</th>\n      <td>2020-03-13 19:00:00</td>\n      <td>ETHUSD</td>\n      <td>119.51</td>\n      <td>132.02</td>\n      <td>117.10</td>\n      <td>129.94</td>\n      <td>7579741.09</td>\n      <td>Friday</td>\n    </tr>\n    <tr>\n      <th>2</th>\n      <td>2020-03-13 18:00:00</td>\n      <td>ETHUSD</td>\n      <td>124.47</td>\n      <td>124.85</td>\n      <td>115.50</td>\n      <td>119.51</td>\n      <td>4898735.81</td>\n      <td>Friday</td>\n    </tr>\n    <tr>\n      <th>3</th>\n      <td>2020-03-13 17:00:00</td>\n      <td>ETHUSD</td>\n      <td>124.08</td>\n      <td>127.42</td>\n      <td>121.63</td>\n      <td>124.47</td>\n      <td>2753450.92</td>\n      <td>Friday</td>\n    </tr>\n    <tr>\n      <th>4</th>\n      <td>2020-03-13 16:00:00</td>\n      <td>ETHUSD</td>\n      <td>124.85</td>\n      <td>129.51</td>\n      <td>120.17</td>\n      <td>124.08</td>\n      <td>4461424.71</td>\n      <td>Friday</td>\n    </tr>\n    <tr>\n      <th>...</th>\n      <td>...</td>\n      <td>...</td>\n      <td>...</td>\n      <td>...</td>\n      <td>...</td>\n      <td>...</td>\n      <td>...</td>\n      <td>...</td>\n    </tr>\n    <tr>\n      <th>23669</th>\n      <td>2017-07-01 15:00:00</td>\n      <td>ETHUSD</td>\n      <td>265.74</td>\n      <td>272.74</td>\n      <td>265.00</td>\n      <td>272.57</td>\n      <td>1500282.55</td>\n      <td>Saturday</td>\n    </tr>\n    <tr>\n      <th>23670</th>\n      <td>2017-07-01 14:00:00</td>\n      <td>ETHUSD</td>\n      <td>268.79</td>\n      <td>269.90</td>\n      <td>265.00</td>\n      <td>265.74</td>\n      <td>1702536.85</td>\n      <td>Saturday</td>\n    </tr>\n    <tr>\n      <th>23671</th>\n      <td>2017-07-01 13:00:00</td>\n      <td>ETHUSD</td>\n      <td>274.83</td>\n      <td>274.93</td>\n      <td>265.00</td>\n      <td>268.79</td>\n      <td>3010787.99</td>\n      <td>Saturday</td>\n    </tr>\n    <tr>\n      <th>23672</th>\n      <td>2017-07-01 12:00:00</td>\n      <td>ETHUSD</td>\n      <td>275.01</td>\n      <td>275.01</td>\n      <td>271.00</td>\n      <td>274.83</td>\n      <td>824362.87</td>\n      <td>Saturday</td>\n    </tr>\n    <tr>\n      <th>23673</th>\n      <td>2017-07-01 11:00:00</td>\n      <td>ETHUSD</td>\n      <td>279.98</td>\n      <td>279.99</td>\n      <td>272.10</td>\n      <td>275.01</td>\n      <td>679358.87</td>\n      <td>Saturday</td>\n    </tr>\n  </tbody>\n</table>\n<p>23674 rows × 8 columns</p>\n</div>"
     },
     "metadata": {},
     "execution_count": 7
    }
   ],
   "source": [
    "df['DayOfWeek'] = df['Date'].dt.day_name()\n",
    "df"
   ]
  },
  {
   "cell_type": "code",
   "execution_count": 8,
   "metadata": {},
   "outputs": [
    {
     "output_type": "execute_result",
     "data": {
      "text/plain": [
       "Timestamp('2017-07-01 11:00:00')"
      ]
     },
     "metadata": {},
     "execution_count": 8
    }
   ],
   "source": [
    "# Find oldest date in dataframe\n",
    "df['Date'].min()"
   ]
  },
  {
   "cell_type": "code",
   "execution_count": 9,
   "metadata": {},
   "outputs": [
    {
     "output_type": "execute_result",
     "data": {
      "text/plain": [
       "Timestamp('2020-03-13 20:00:00')"
      ]
     },
     "metadata": {},
     "execution_count": 9
    }
   ],
   "source": [
    "# Find newest date in dataframe\n",
    "df['Date'].max()"
   ]
  },
  {
   "cell_type": "code",
   "execution_count": 10,
   "metadata": {},
   "outputs": [
    {
     "output_type": "execute_result",
     "data": {
      "text/plain": [
       "Timedelta('986 days 09:00:00')"
      ]
     },
     "metadata": {},
     "execution_count": 10
    }
   ],
   "source": [
    "df['Date'].max() - df['Date'].min()"
   ]
  },
  {
   "cell_type": "code",
   "execution_count": 11,
   "metadata": {},
   "outputs": [
    {
     "output_type": "execute_result",
     "data": {
      "text/plain": [
       "                     Date  Symbol    Open    High     Low   Close      Volume  \\\n",
       "1749  2019-12-31 23:00:00  ETHUSD  128.33  128.69  128.14  128.54   440678.91   \n",
       "1750  2019-12-31 22:00:00  ETHUSD  128.38  128.69  127.95  128.33   554646.02   \n",
       "1751  2019-12-31 21:00:00  ETHUSD  127.86  128.43  127.72  128.38   350155.69   \n",
       "1752  2019-12-31 20:00:00  ETHUSD  127.84  128.34  127.71  127.86   428183.38   \n",
       "1753  2019-12-31 19:00:00  ETHUSD  128.69  128.69  127.60  127.84  1169847.84   \n",
       "...                   ...     ...     ...     ...     ...     ...         ...   \n",
       "10504 2019-01-01 04:00:00  ETHUSD  130.75  133.96  130.74  131.96  2791135.37   \n",
       "10505 2019-01-01 03:00:00  ETHUSD  130.06  130.79  130.06  130.75   503732.63   \n",
       "10506 2019-01-01 02:00:00  ETHUSD  130.79  130.88  129.55  130.06   838183.43   \n",
       "10507 2019-01-01 01:00:00  ETHUSD  131.62  131.62  130.77  130.79   434917.99   \n",
       "10508 2019-01-01 00:00:00  ETHUSD  130.53  131.91  130.48  131.62  1067136.21   \n",
       "\n",
       "      DayOfWeek  \n",
       "1749    Tuesday  \n",
       "1750    Tuesday  \n",
       "1751    Tuesday  \n",
       "1752    Tuesday  \n",
       "1753    Tuesday  \n",
       "...         ...  \n",
       "10504   Tuesday  \n",
       "10505   Tuesday  \n",
       "10506   Tuesday  \n",
       "10507   Tuesday  \n",
       "10508   Tuesday  \n",
       "\n",
       "[8760 rows x 8 columns]"
      ],
      "text/html": "<div>\n<style scoped>\n    .dataframe tbody tr th:only-of-type {\n        vertical-align: middle;\n    }\n\n    .dataframe tbody tr th {\n        vertical-align: top;\n    }\n\n    .dataframe thead th {\n        text-align: right;\n    }\n</style>\n<table border=\"1\" class=\"dataframe\">\n  <thead>\n    <tr style=\"text-align: right;\">\n      <th></th>\n      <th>Date</th>\n      <th>Symbol</th>\n      <th>Open</th>\n      <th>High</th>\n      <th>Low</th>\n      <th>Close</th>\n      <th>Volume</th>\n      <th>DayOfWeek</th>\n    </tr>\n  </thead>\n  <tbody>\n    <tr>\n      <th>1749</th>\n      <td>2019-12-31 23:00:00</td>\n      <td>ETHUSD</td>\n      <td>128.33</td>\n      <td>128.69</td>\n      <td>128.14</td>\n      <td>128.54</td>\n      <td>440678.91</td>\n      <td>Tuesday</td>\n    </tr>\n    <tr>\n      <th>1750</th>\n      <td>2019-12-31 22:00:00</td>\n      <td>ETHUSD</td>\n      <td>128.38</td>\n      <td>128.69</td>\n      <td>127.95</td>\n      <td>128.33</td>\n      <td>554646.02</td>\n      <td>Tuesday</td>\n    </tr>\n    <tr>\n      <th>1751</th>\n      <td>2019-12-31 21:00:00</td>\n      <td>ETHUSD</td>\n      <td>127.86</td>\n      <td>128.43</td>\n      <td>127.72</td>\n      <td>128.38</td>\n      <td>350155.69</td>\n      <td>Tuesday</td>\n    </tr>\n    <tr>\n      <th>1752</th>\n      <td>2019-12-31 20:00:00</td>\n      <td>ETHUSD</td>\n      <td>127.84</td>\n      <td>128.34</td>\n      <td>127.71</td>\n      <td>127.86</td>\n      <td>428183.38</td>\n      <td>Tuesday</td>\n    </tr>\n    <tr>\n      <th>1753</th>\n      <td>2019-12-31 19:00:00</td>\n      <td>ETHUSD</td>\n      <td>128.69</td>\n      <td>128.69</td>\n      <td>127.60</td>\n      <td>127.84</td>\n      <td>1169847.84</td>\n      <td>Tuesday</td>\n    </tr>\n    <tr>\n      <th>...</th>\n      <td>...</td>\n      <td>...</td>\n      <td>...</td>\n      <td>...</td>\n      <td>...</td>\n      <td>...</td>\n      <td>...</td>\n      <td>...</td>\n    </tr>\n    <tr>\n      <th>10504</th>\n      <td>2019-01-01 04:00:00</td>\n      <td>ETHUSD</td>\n      <td>130.75</td>\n      <td>133.96</td>\n      <td>130.74</td>\n      <td>131.96</td>\n      <td>2791135.37</td>\n      <td>Tuesday</td>\n    </tr>\n    <tr>\n      <th>10505</th>\n      <td>2019-01-01 03:00:00</td>\n      <td>ETHUSD</td>\n      <td>130.06</td>\n      <td>130.79</td>\n      <td>130.06</td>\n      <td>130.75</td>\n      <td>503732.63</td>\n      <td>Tuesday</td>\n    </tr>\n    <tr>\n      <th>10506</th>\n      <td>2019-01-01 02:00:00</td>\n      <td>ETHUSD</td>\n      <td>130.79</td>\n      <td>130.88</td>\n      <td>129.55</td>\n      <td>130.06</td>\n      <td>838183.43</td>\n      <td>Tuesday</td>\n    </tr>\n    <tr>\n      <th>10507</th>\n      <td>2019-01-01 01:00:00</td>\n      <td>ETHUSD</td>\n      <td>131.62</td>\n      <td>131.62</td>\n      <td>130.77</td>\n      <td>130.79</td>\n      <td>434917.99</td>\n      <td>Tuesday</td>\n    </tr>\n    <tr>\n      <th>10508</th>\n      <td>2019-01-01 00:00:00</td>\n      <td>ETHUSD</td>\n      <td>130.53</td>\n      <td>131.91</td>\n      <td>130.48</td>\n      <td>131.62</td>\n      <td>1067136.21</td>\n      <td>Tuesday</td>\n    </tr>\n  </tbody>\n</table>\n<p>8760 rows × 8 columns</p>\n</div>"
     },
     "metadata": {},
     "execution_count": 11
    }
   ],
   "source": [
    "filt = (df['Date'] >= '2019') & (df['Date'] < '2020')\n",
    "df.loc[filt]"
   ]
  },
  {
   "cell_type": "code",
   "execution_count": 12,
   "metadata": {},
   "outputs": [
    {
     "output_type": "execute_result",
     "data": {
      "text/plain": [
       "                     Symbol    Open    High     Low   Close      Volume  \\\n",
       "Date                                                                      \n",
       "2020-03-13 20:00:00  ETHUSD  129.94  131.82  126.87  128.71  1940673.93   \n",
       "2020-03-13 19:00:00  ETHUSD  119.51  132.02  117.10  129.94  7579741.09   \n",
       "2020-03-13 18:00:00  ETHUSD  124.47  124.85  115.50  119.51  4898735.81   \n",
       "2020-03-13 17:00:00  ETHUSD  124.08  127.42  121.63  124.47  2753450.92   \n",
       "2020-03-13 16:00:00  ETHUSD  124.85  129.51  120.17  124.08  4461424.71   \n",
       "...                     ...     ...     ...     ...     ...         ...   \n",
       "2017-07-01 15:00:00  ETHUSD  265.74  272.74  265.00  272.57  1500282.55   \n",
       "2017-07-01 14:00:00  ETHUSD  268.79  269.90  265.00  265.74  1702536.85   \n",
       "2017-07-01 13:00:00  ETHUSD  274.83  274.93  265.00  268.79  3010787.99   \n",
       "2017-07-01 12:00:00  ETHUSD  275.01  275.01  271.00  274.83   824362.87   \n",
       "2017-07-01 11:00:00  ETHUSD  279.98  279.99  272.10  275.01   679358.87   \n",
       "\n",
       "                    DayOfWeek  \n",
       "Date                           \n",
       "2020-03-13 20:00:00    Friday  \n",
       "2020-03-13 19:00:00    Friday  \n",
       "2020-03-13 18:00:00    Friday  \n",
       "2020-03-13 17:00:00    Friday  \n",
       "2020-03-13 16:00:00    Friday  \n",
       "...                       ...  \n",
       "2017-07-01 15:00:00  Saturday  \n",
       "2017-07-01 14:00:00  Saturday  \n",
       "2017-07-01 13:00:00  Saturday  \n",
       "2017-07-01 12:00:00  Saturday  \n",
       "2017-07-01 11:00:00  Saturday  \n",
       "\n",
       "[23674 rows x 7 columns]"
      ],
      "text/html": "<div>\n<style scoped>\n    .dataframe tbody tr th:only-of-type {\n        vertical-align: middle;\n    }\n\n    .dataframe tbody tr th {\n        vertical-align: top;\n    }\n\n    .dataframe thead th {\n        text-align: right;\n    }\n</style>\n<table border=\"1\" class=\"dataframe\">\n  <thead>\n    <tr style=\"text-align: right;\">\n      <th></th>\n      <th>Symbol</th>\n      <th>Open</th>\n      <th>High</th>\n      <th>Low</th>\n      <th>Close</th>\n      <th>Volume</th>\n      <th>DayOfWeek</th>\n    </tr>\n    <tr>\n      <th>Date</th>\n      <th></th>\n      <th></th>\n      <th></th>\n      <th></th>\n      <th></th>\n      <th></th>\n      <th></th>\n    </tr>\n  </thead>\n  <tbody>\n    <tr>\n      <th>2020-03-13 20:00:00</th>\n      <td>ETHUSD</td>\n      <td>129.94</td>\n      <td>131.82</td>\n      <td>126.87</td>\n      <td>128.71</td>\n      <td>1940673.93</td>\n      <td>Friday</td>\n    </tr>\n    <tr>\n      <th>2020-03-13 19:00:00</th>\n      <td>ETHUSD</td>\n      <td>119.51</td>\n      <td>132.02</td>\n      <td>117.10</td>\n      <td>129.94</td>\n      <td>7579741.09</td>\n      <td>Friday</td>\n    </tr>\n    <tr>\n      <th>2020-03-13 18:00:00</th>\n      <td>ETHUSD</td>\n      <td>124.47</td>\n      <td>124.85</td>\n      <td>115.50</td>\n      <td>119.51</td>\n      <td>4898735.81</td>\n      <td>Friday</td>\n    </tr>\n    <tr>\n      <th>2020-03-13 17:00:00</th>\n      <td>ETHUSD</td>\n      <td>124.08</td>\n      <td>127.42</td>\n      <td>121.63</td>\n      <td>124.47</td>\n      <td>2753450.92</td>\n      <td>Friday</td>\n    </tr>\n    <tr>\n      <th>2020-03-13 16:00:00</th>\n      <td>ETHUSD</td>\n      <td>124.85</td>\n      <td>129.51</td>\n      <td>120.17</td>\n      <td>124.08</td>\n      <td>4461424.71</td>\n      <td>Friday</td>\n    </tr>\n    <tr>\n      <th>...</th>\n      <td>...</td>\n      <td>...</td>\n      <td>...</td>\n      <td>...</td>\n      <td>...</td>\n      <td>...</td>\n      <td>...</td>\n    </tr>\n    <tr>\n      <th>2017-07-01 15:00:00</th>\n      <td>ETHUSD</td>\n      <td>265.74</td>\n      <td>272.74</td>\n      <td>265.00</td>\n      <td>272.57</td>\n      <td>1500282.55</td>\n      <td>Saturday</td>\n    </tr>\n    <tr>\n      <th>2017-07-01 14:00:00</th>\n      <td>ETHUSD</td>\n      <td>268.79</td>\n      <td>269.90</td>\n      <td>265.00</td>\n      <td>265.74</td>\n      <td>1702536.85</td>\n      <td>Saturday</td>\n    </tr>\n    <tr>\n      <th>2017-07-01 13:00:00</th>\n      <td>ETHUSD</td>\n      <td>274.83</td>\n      <td>274.93</td>\n      <td>265.00</td>\n      <td>268.79</td>\n      <td>3010787.99</td>\n      <td>Saturday</td>\n    </tr>\n    <tr>\n      <th>2017-07-01 12:00:00</th>\n      <td>ETHUSD</td>\n      <td>275.01</td>\n      <td>275.01</td>\n      <td>271.00</td>\n      <td>274.83</td>\n      <td>824362.87</td>\n      <td>Saturday</td>\n    </tr>\n    <tr>\n      <th>2017-07-01 11:00:00</th>\n      <td>ETHUSD</td>\n      <td>279.98</td>\n      <td>279.99</td>\n      <td>272.10</td>\n      <td>275.01</td>\n      <td>679358.87</td>\n      <td>Saturday</td>\n    </tr>\n  </tbody>\n</table>\n<p>23674 rows × 7 columns</p>\n</div>"
     },
     "metadata": {},
     "execution_count": 12
    }
   ],
   "source": [
    "# using date as index (most be unique)\n",
    "df.set_index('Date', inplace=True)\n",
    "df"
   ]
  },
  {
   "cell_type": "code",
   "execution_count": 13,
   "metadata": {},
   "outputs": [
    {
     "output_type": "execute_result",
     "data": {
      "text/plain": [
       "                     Symbol    Open    High     Low   Close      Volume  \\\n",
       "Date                                                                      \n",
       "2019-12-31 23:00:00  ETHUSD  128.33  128.69  128.14  128.54   440678.91   \n",
       "2019-12-31 22:00:00  ETHUSD  128.38  128.69  127.95  128.33   554646.02   \n",
       "2019-12-31 21:00:00  ETHUSD  127.86  128.43  127.72  128.38   350155.69   \n",
       "2019-12-31 20:00:00  ETHUSD  127.84  128.34  127.71  127.86   428183.38   \n",
       "2019-12-31 19:00:00  ETHUSD  128.69  128.69  127.60  127.84  1169847.84   \n",
       "...                     ...     ...     ...     ...     ...         ...   \n",
       "2019-01-01 04:00:00  ETHUSD  130.75  133.96  130.74  131.96  2791135.37   \n",
       "2019-01-01 03:00:00  ETHUSD  130.06  130.79  130.06  130.75   503732.63   \n",
       "2019-01-01 02:00:00  ETHUSD  130.79  130.88  129.55  130.06   838183.43   \n",
       "2019-01-01 01:00:00  ETHUSD  131.62  131.62  130.77  130.79   434917.99   \n",
       "2019-01-01 00:00:00  ETHUSD  130.53  131.91  130.48  131.62  1067136.21   \n",
       "\n",
       "                    DayOfWeek  \n",
       "Date                           \n",
       "2019-12-31 23:00:00   Tuesday  \n",
       "2019-12-31 22:00:00   Tuesday  \n",
       "2019-12-31 21:00:00   Tuesday  \n",
       "2019-12-31 20:00:00   Tuesday  \n",
       "2019-12-31 19:00:00   Tuesday  \n",
       "...                       ...  \n",
       "2019-01-01 04:00:00   Tuesday  \n",
       "2019-01-01 03:00:00   Tuesday  \n",
       "2019-01-01 02:00:00   Tuesday  \n",
       "2019-01-01 01:00:00   Tuesday  \n",
       "2019-01-01 00:00:00   Tuesday  \n",
       "\n",
       "[8760 rows x 7 columns]"
      ],
      "text/html": "<div>\n<style scoped>\n    .dataframe tbody tr th:only-of-type {\n        vertical-align: middle;\n    }\n\n    .dataframe tbody tr th {\n        vertical-align: top;\n    }\n\n    .dataframe thead th {\n        text-align: right;\n    }\n</style>\n<table border=\"1\" class=\"dataframe\">\n  <thead>\n    <tr style=\"text-align: right;\">\n      <th></th>\n      <th>Symbol</th>\n      <th>Open</th>\n      <th>High</th>\n      <th>Low</th>\n      <th>Close</th>\n      <th>Volume</th>\n      <th>DayOfWeek</th>\n    </tr>\n    <tr>\n      <th>Date</th>\n      <th></th>\n      <th></th>\n      <th></th>\n      <th></th>\n      <th></th>\n      <th></th>\n      <th></th>\n    </tr>\n  </thead>\n  <tbody>\n    <tr>\n      <th>2019-12-31 23:00:00</th>\n      <td>ETHUSD</td>\n      <td>128.33</td>\n      <td>128.69</td>\n      <td>128.14</td>\n      <td>128.54</td>\n      <td>440678.91</td>\n      <td>Tuesday</td>\n    </tr>\n    <tr>\n      <th>2019-12-31 22:00:00</th>\n      <td>ETHUSD</td>\n      <td>128.38</td>\n      <td>128.69</td>\n      <td>127.95</td>\n      <td>128.33</td>\n      <td>554646.02</td>\n      <td>Tuesday</td>\n    </tr>\n    <tr>\n      <th>2019-12-31 21:00:00</th>\n      <td>ETHUSD</td>\n      <td>127.86</td>\n      <td>128.43</td>\n      <td>127.72</td>\n      <td>128.38</td>\n      <td>350155.69</td>\n      <td>Tuesday</td>\n    </tr>\n    <tr>\n      <th>2019-12-31 20:00:00</th>\n      <td>ETHUSD</td>\n      <td>127.84</td>\n      <td>128.34</td>\n      <td>127.71</td>\n      <td>127.86</td>\n      <td>428183.38</td>\n      <td>Tuesday</td>\n    </tr>\n    <tr>\n      <th>2019-12-31 19:00:00</th>\n      <td>ETHUSD</td>\n      <td>128.69</td>\n      <td>128.69</td>\n      <td>127.60</td>\n      <td>127.84</td>\n      <td>1169847.84</td>\n      <td>Tuesday</td>\n    </tr>\n    <tr>\n      <th>...</th>\n      <td>...</td>\n      <td>...</td>\n      <td>...</td>\n      <td>...</td>\n      <td>...</td>\n      <td>...</td>\n      <td>...</td>\n    </tr>\n    <tr>\n      <th>2019-01-01 04:00:00</th>\n      <td>ETHUSD</td>\n      <td>130.75</td>\n      <td>133.96</td>\n      <td>130.74</td>\n      <td>131.96</td>\n      <td>2791135.37</td>\n      <td>Tuesday</td>\n    </tr>\n    <tr>\n      <th>2019-01-01 03:00:00</th>\n      <td>ETHUSD</td>\n      <td>130.06</td>\n      <td>130.79</td>\n      <td>130.06</td>\n      <td>130.75</td>\n      <td>503732.63</td>\n      <td>Tuesday</td>\n    </tr>\n    <tr>\n      <th>2019-01-01 02:00:00</th>\n      <td>ETHUSD</td>\n      <td>130.79</td>\n      <td>130.88</td>\n      <td>129.55</td>\n      <td>130.06</td>\n      <td>838183.43</td>\n      <td>Tuesday</td>\n    </tr>\n    <tr>\n      <th>2019-01-01 01:00:00</th>\n      <td>ETHUSD</td>\n      <td>131.62</td>\n      <td>131.62</td>\n      <td>130.77</td>\n      <td>130.79</td>\n      <td>434917.99</td>\n      <td>Tuesday</td>\n    </tr>\n    <tr>\n      <th>2019-01-01 00:00:00</th>\n      <td>ETHUSD</td>\n      <td>130.53</td>\n      <td>131.91</td>\n      <td>130.48</td>\n      <td>131.62</td>\n      <td>1067136.21</td>\n      <td>Tuesday</td>\n    </tr>\n  </tbody>\n</table>\n<p>8760 rows × 7 columns</p>\n</div>"
     },
     "metadata": {},
     "execution_count": 13
    }
   ],
   "source": [
    "# Indexing a DataFrame with datetime objects, \n",
    "# and using a single string will be deprecated\n",
    "# use loc instead (I guess it has some optimizations?)\n",
    "# df['2019']\n",
    "\n",
    "df.loc['2019']"
   ]
  },
  {
   "cell_type": "code",
   "execution_count": 14,
   "metadata": {},
   "outputs": [
    {
     "output_type": "execute_result",
     "data": {
      "text/plain": [
       "                     Symbol    Open    High     Low   Close      Volume  \\\n",
       "Date                                                                      \n",
       "2020-02-29 23:00:00  ETHUSD  223.35  223.58  216.83  217.31  1927939.88   \n",
       "2020-02-29 22:00:00  ETHUSD  223.48  223.59  222.14  223.35   535998.57   \n",
       "2020-02-29 21:00:00  ETHUSD  224.63  225.14  222.74  223.48   561158.03   \n",
       "2020-02-29 20:00:00  ETHUSD  225.31  225.33  223.50  224.63   511648.65   \n",
       "2020-02-29 19:00:00  ETHUSD  225.09  225.85  223.87  225.31  1250856.20   \n",
       "...                     ...     ...     ...     ...     ...         ...   \n",
       "2020-01-01 04:00:00  ETHUSD  129.57  130.00  129.50  129.56   702786.82   \n",
       "2020-01-01 03:00:00  ETHUSD  130.37  130.44  129.38  129.57   496704.23   \n",
       "2020-01-01 02:00:00  ETHUSD  130.14  130.50  129.91  130.37   396315.72   \n",
       "2020-01-01 01:00:00  ETHUSD  128.34  130.14  128.32  130.14   635419.40   \n",
       "2020-01-01 00:00:00  ETHUSD  128.54  128.54  128.12  128.34   245119.91   \n",
       "\n",
       "                     DayOfWeek  \n",
       "Date                            \n",
       "2020-02-29 23:00:00   Saturday  \n",
       "2020-02-29 22:00:00   Saturday  \n",
       "2020-02-29 21:00:00   Saturday  \n",
       "2020-02-29 20:00:00   Saturday  \n",
       "2020-02-29 19:00:00   Saturday  \n",
       "...                        ...  \n",
       "2020-01-01 04:00:00  Wednesday  \n",
       "2020-01-01 03:00:00  Wednesday  \n",
       "2020-01-01 02:00:00  Wednesday  \n",
       "2020-01-01 01:00:00  Wednesday  \n",
       "2020-01-01 00:00:00  Wednesday  \n",
       "\n",
       "[1440 rows x 7 columns]"
      ],
      "text/html": "<div>\n<style scoped>\n    .dataframe tbody tr th:only-of-type {\n        vertical-align: middle;\n    }\n\n    .dataframe tbody tr th {\n        vertical-align: top;\n    }\n\n    .dataframe thead th {\n        text-align: right;\n    }\n</style>\n<table border=\"1\" class=\"dataframe\">\n  <thead>\n    <tr style=\"text-align: right;\">\n      <th></th>\n      <th>Symbol</th>\n      <th>Open</th>\n      <th>High</th>\n      <th>Low</th>\n      <th>Close</th>\n      <th>Volume</th>\n      <th>DayOfWeek</th>\n    </tr>\n    <tr>\n      <th>Date</th>\n      <th></th>\n      <th></th>\n      <th></th>\n      <th></th>\n      <th></th>\n      <th></th>\n      <th></th>\n    </tr>\n  </thead>\n  <tbody>\n    <tr>\n      <th>2020-02-29 23:00:00</th>\n      <td>ETHUSD</td>\n      <td>223.35</td>\n      <td>223.58</td>\n      <td>216.83</td>\n      <td>217.31</td>\n      <td>1927939.88</td>\n      <td>Saturday</td>\n    </tr>\n    <tr>\n      <th>2020-02-29 22:00:00</th>\n      <td>ETHUSD</td>\n      <td>223.48</td>\n      <td>223.59</td>\n      <td>222.14</td>\n      <td>223.35</td>\n      <td>535998.57</td>\n      <td>Saturday</td>\n    </tr>\n    <tr>\n      <th>2020-02-29 21:00:00</th>\n      <td>ETHUSD</td>\n      <td>224.63</td>\n      <td>225.14</td>\n      <td>222.74</td>\n      <td>223.48</td>\n      <td>561158.03</td>\n      <td>Saturday</td>\n    </tr>\n    <tr>\n      <th>2020-02-29 20:00:00</th>\n      <td>ETHUSD</td>\n      <td>225.31</td>\n      <td>225.33</td>\n      <td>223.50</td>\n      <td>224.63</td>\n      <td>511648.65</td>\n      <td>Saturday</td>\n    </tr>\n    <tr>\n      <th>2020-02-29 19:00:00</th>\n      <td>ETHUSD</td>\n      <td>225.09</td>\n      <td>225.85</td>\n      <td>223.87</td>\n      <td>225.31</td>\n      <td>1250856.20</td>\n      <td>Saturday</td>\n    </tr>\n    <tr>\n      <th>...</th>\n      <td>...</td>\n      <td>...</td>\n      <td>...</td>\n      <td>...</td>\n      <td>...</td>\n      <td>...</td>\n      <td>...</td>\n    </tr>\n    <tr>\n      <th>2020-01-01 04:00:00</th>\n      <td>ETHUSD</td>\n      <td>129.57</td>\n      <td>130.00</td>\n      <td>129.50</td>\n      <td>129.56</td>\n      <td>702786.82</td>\n      <td>Wednesday</td>\n    </tr>\n    <tr>\n      <th>2020-01-01 03:00:00</th>\n      <td>ETHUSD</td>\n      <td>130.37</td>\n      <td>130.44</td>\n      <td>129.38</td>\n      <td>129.57</td>\n      <td>496704.23</td>\n      <td>Wednesday</td>\n    </tr>\n    <tr>\n      <th>2020-01-01 02:00:00</th>\n      <td>ETHUSD</td>\n      <td>130.14</td>\n      <td>130.50</td>\n      <td>129.91</td>\n      <td>130.37</td>\n      <td>396315.72</td>\n      <td>Wednesday</td>\n    </tr>\n    <tr>\n      <th>2020-01-01 01:00:00</th>\n      <td>ETHUSD</td>\n      <td>128.34</td>\n      <td>130.14</td>\n      <td>128.32</td>\n      <td>130.14</td>\n      <td>635419.40</td>\n      <td>Wednesday</td>\n    </tr>\n    <tr>\n      <th>2020-01-01 00:00:00</th>\n      <td>ETHUSD</td>\n      <td>128.54</td>\n      <td>128.54</td>\n      <td>128.12</td>\n      <td>128.34</td>\n      <td>245119.91</td>\n      <td>Wednesday</td>\n    </tr>\n  </tbody>\n</table>\n<p>1440 rows × 7 columns</p>\n</div>"
     },
     "metadata": {},
     "execution_count": 14
    }
   ],
   "source": [
    "# But DateTime slicing is still valid?\n",
    "# pandas, you weird with your deprecations\n",
    "df['2020-01':'2020-02']"
   ]
  },
  {
   "cell_type": "code",
   "execution_count": 15,
   "metadata": {},
   "outputs": [
    {
     "output_type": "execute_result",
     "data": {
      "text/plain": [
       "195.1655902777778"
      ]
     },
     "metadata": {},
     "execution_count": 15
    }
   ],
   "source": [
    "df['2020-01':'2020-02']['Close'].mean()"
   ]
  },
  {
   "cell_type": "code",
   "execution_count": 16,
   "metadata": {},
   "outputs": [
    {
     "output_type": "execute_result",
     "data": {
      "text/plain": [
       "132.68"
      ]
     },
     "metadata": {},
     "execution_count": 16
    }
   ],
   "source": [
    "# Let's combine date into a daily view, instead of hourly\n",
    "df.loc['2020-01-01', 'High'].max()"
   ]
  },
  {
   "cell_type": "code",
   "execution_count": 17,
   "metadata": {},
   "outputs": [
    {
     "output_type": "execute_result",
     "data": {
      "text/plain": [
       "132.68"
      ]
     },
     "metadata": {},
     "execution_count": 17
    }
   ],
   "source": [
    "# resample helps to manipulate time series date\n",
    "# must have a datetime like object as index\n",
    "highs = df['High'].resample('D').max()\n",
    "highs['2020-01-01']"
   ]
  },
  {
   "cell_type": "code",
   "execution_count": 18,
   "metadata": {},
   "outputs": [],
   "source": [
    "%matplotlib inline"
   ]
  },
  {
   "cell_type": "code",
   "execution_count": 19,
   "metadata": {},
   "outputs": [
    {
     "output_type": "execute_result",
     "data": {
      "text/plain": [
       "<AxesSubplot:xlabel='Date'>"
      ]
     },
     "metadata": {},
     "execution_count": 19
    },
    {
     "output_type": "display_data",
     "data": {
      "text/plain": "<Figure size 432x288 with 1 Axes>",
      "image/svg+xml": "<?xml version=\"1.0\" encoding=\"utf-8\" standalone=\"no\"?>\r\n<!DOCTYPE svg PUBLIC \"-//W3C//DTD SVG 1.1//EN\"\r\n  \"http://www.w3.org/Graphics/SVG/1.1/DTD/svg11.dtd\">\r\n<svg height=\"273.394062pt\" version=\"1.1\" viewBox=\"0 0 381.65 273.394062\" width=\"381.65pt\" xmlns=\"http://www.w3.org/2000/svg\" xmlns:xlink=\"http://www.w3.org/1999/xlink\">\r\n <metadata>\r\n  <rdf:RDF xmlns:cc=\"http://creativecommons.org/ns#\" xmlns:dc=\"http://purl.org/dc/elements/1.1/\" xmlns:rdf=\"http://www.w3.org/1999/02/22-rdf-syntax-ns#\">\r\n   <cc:Work>\r\n    <dc:type rdf:resource=\"http://purl.org/dc/dcmitype/StillImage\"/>\r\n    <dc:date>2021-05-25T12:23:20.709593</dc:date>\r\n    <dc:format>image/svg+xml</dc:format>\r\n    <dc:creator>\r\n     <cc:Agent>\r\n      <dc:title>Matplotlib v3.4.2, https://matplotlib.org/</dc:title>\r\n     </cc:Agent>\r\n    </dc:creator>\r\n   </cc:Work>\r\n  </rdf:RDF>\r\n </metadata>\r\n <defs>\r\n  <style type=\"text/css\">*{stroke-linecap:butt;stroke-linejoin:round;}</style>\r\n </defs>\r\n <g id=\"figure_1\">\r\n  <g id=\"patch_1\">\r\n   <path d=\"M -0 273.394062 \r\nL 381.65 273.394062 \r\nL 381.65 0 \r\nL -0 0 \r\nz\r\n\" style=\"fill:none;\"/>\r\n  </g>\r\n  <g id=\"axes_1\">\r\n   <g id=\"patch_2\">\r\n    <path d=\"M 39.65 224.64 \r\nL 374.45 224.64 \r\nL 374.45 7.2 \r\nL 39.65 7.2 \r\nz\r\n\" style=\"fill:#ffffff;\"/>\r\n   </g>\r\n   <g id=\"matplotlib.axis_1\">\r\n    <g id=\"xtick_1\">\r\n     <g id=\"line2d_1\">\r\n      <defs>\r\n       <path d=\"M 0 0 \r\nL 0 3.5 \r\n\" id=\"m41a91cb395\" style=\"stroke:#000000;stroke-width:0.8;\"/>\r\n      </defs>\r\n      <g>\r\n       <use style=\"stroke:#000000;stroke-width:0.8;\" x=\"39.65\" xlink:href=\"#m41a91cb395\" y=\"224.64\"/>\r\n      </g>\r\n     </g>\r\n     <g id=\"text_1\">\r\n      <!-- Jul -->\r\n      <g transform=\"translate(33.617187 239.238437)scale(0.1 -0.1)\">\r\n       <defs>\r\n        <path d=\"M 628 4666 \r\nL 1259 4666 \r\nL 1259 325 \r\nQ 1259 -519 939 -900 \r\nQ 619 -1281 -91 -1281 \r\nL -331 -1281 \r\nL -331 -750 \r\nL -134 -750 \r\nQ 284 -750 456 -515 \r\nQ 628 -281 628 325 \r\nL 628 4666 \r\nz\r\n\" id=\"DejaVuSans-4a\" transform=\"scale(0.015625)\"/>\r\n        <path d=\"M 544 1381 \r\nL 544 3500 \r\nL 1119 3500 \r\nL 1119 1403 \r\nQ 1119 906 1312 657 \r\nQ 1506 409 1894 409 \r\nQ 2359 409 2629 706 \r\nQ 2900 1003 2900 1516 \r\nL 2900 3500 \r\nL 3475 3500 \r\nL 3475 0 \r\nL 2900 0 \r\nL 2900 538 \r\nQ 2691 219 2414 64 \r\nQ 2138 -91 1772 -91 \r\nQ 1169 -91 856 284 \r\nQ 544 659 544 1381 \r\nz\r\nM 1991 3584 \r\nL 1991 3584 \r\nz\r\n\" id=\"DejaVuSans-75\" transform=\"scale(0.015625)\"/>\r\n        <path d=\"M 603 4863 \r\nL 1178 4863 \r\nL 1178 0 \r\nL 603 0 \r\nL 603 4863 \r\nz\r\n\" id=\"DejaVuSans-6c\" transform=\"scale(0.015625)\"/>\r\n       </defs>\r\n       <use xlink:href=\"#DejaVuSans-4a\"/>\r\n       <use x=\"29.492188\" xlink:href=\"#DejaVuSans-75\"/>\r\n       <use x=\"92.871094\" xlink:href=\"#DejaVuSans-6c\"/>\r\n      </g>\r\n     </g>\r\n    </g>\r\n    <g id=\"xtick_2\">\r\n     <g id=\"line2d_2\">\r\n      <g>\r\n       <use style=\"stroke:#000000;stroke-width:0.8;\" x=\"102.12789\" xlink:href=\"#m41a91cb395\" y=\"224.64\"/>\r\n      </g>\r\n     </g>\r\n     <g id=\"text_2\">\r\n      <!-- Jan -->\r\n      <g transform=\"translate(94.420078 239.238437)scale(0.1 -0.1)\">\r\n       <defs>\r\n        <path d=\"M 2194 1759 \r\nQ 1497 1759 1228 1600 \r\nQ 959 1441 959 1056 \r\nQ 959 750 1161 570 \r\nQ 1363 391 1709 391 \r\nQ 2188 391 2477 730 \r\nQ 2766 1069 2766 1631 \r\nL 2766 1759 \r\nL 2194 1759 \r\nz\r\nM 3341 1997 \r\nL 3341 0 \r\nL 2766 0 \r\nL 2766 531 \r\nQ 2569 213 2275 61 \r\nQ 1981 -91 1556 -91 \r\nQ 1019 -91 701 211 \r\nQ 384 513 384 1019 \r\nQ 384 1609 779 1909 \r\nQ 1175 2209 1959 2209 \r\nL 2766 2209 \r\nL 2766 2266 \r\nQ 2766 2663 2505 2880 \r\nQ 2244 3097 1772 3097 \r\nQ 1472 3097 1187 3025 \r\nQ 903 2953 641 2809 \r\nL 641 3341 \r\nQ 956 3463 1253 3523 \r\nQ 1550 3584 1831 3584 \r\nQ 2591 3584 2966 3190 \r\nQ 3341 2797 3341 1997 \r\nz\r\n\" id=\"DejaVuSans-61\" transform=\"scale(0.015625)\"/>\r\n        <path d=\"M 3513 2113 \r\nL 3513 0 \r\nL 2938 0 \r\nL 2938 2094 \r\nQ 2938 2591 2744 2837 \r\nQ 2550 3084 2163 3084 \r\nQ 1697 3084 1428 2787 \r\nQ 1159 2491 1159 1978 \r\nL 1159 0 \r\nL 581 0 \r\nL 581 3500 \r\nL 1159 3500 \r\nL 1159 2956 \r\nQ 1366 3272 1645 3428 \r\nQ 1925 3584 2291 3584 \r\nQ 2894 3584 3203 3211 \r\nQ 3513 2838 3513 2113 \r\nz\r\n\" id=\"DejaVuSans-6e\" transform=\"scale(0.015625)\"/>\r\n       </defs>\r\n       <use xlink:href=\"#DejaVuSans-4a\"/>\r\n       <use x=\"29.492188\" xlink:href=\"#DejaVuSans-61\"/>\r\n       <use x=\"90.771484\" xlink:href=\"#DejaVuSans-6e\"/>\r\n      </g>\r\n      <!-- 2018 -->\r\n      <g transform=\"translate(89.40289 250.43625)scale(0.1 -0.1)\">\r\n       <defs>\r\n        <path d=\"M 1228 531 \r\nL 3431 531 \r\nL 3431 0 \r\nL 469 0 \r\nL 469 531 \r\nQ 828 903 1448 1529 \r\nQ 2069 2156 2228 2338 \r\nQ 2531 2678 2651 2914 \r\nQ 2772 3150 2772 3378 \r\nQ 2772 3750 2511 3984 \r\nQ 2250 4219 1831 4219 \r\nQ 1534 4219 1204 4116 \r\nQ 875 4013 500 3803 \r\nL 500 4441 \r\nQ 881 4594 1212 4672 \r\nQ 1544 4750 1819 4750 \r\nQ 2544 4750 2975 4387 \r\nQ 3406 4025 3406 3419 \r\nQ 3406 3131 3298 2873 \r\nQ 3191 2616 2906 2266 \r\nQ 2828 2175 2409 1742 \r\nQ 1991 1309 1228 531 \r\nz\r\n\" id=\"DejaVuSans-32\" transform=\"scale(0.015625)\"/>\r\n        <path d=\"M 2034 4250 \r\nQ 1547 4250 1301 3770 \r\nQ 1056 3291 1056 2328 \r\nQ 1056 1369 1301 889 \r\nQ 1547 409 2034 409 \r\nQ 2525 409 2770 889 \r\nQ 3016 1369 3016 2328 \r\nQ 3016 3291 2770 3770 \r\nQ 2525 4250 2034 4250 \r\nz\r\nM 2034 4750 \r\nQ 2819 4750 3233 4129 \r\nQ 3647 3509 3647 2328 \r\nQ 3647 1150 3233 529 \r\nQ 2819 -91 2034 -91 \r\nQ 1250 -91 836 529 \r\nQ 422 1150 422 2328 \r\nQ 422 3509 836 4129 \r\nQ 1250 4750 2034 4750 \r\nz\r\n\" id=\"DejaVuSans-30\" transform=\"scale(0.015625)\"/>\r\n        <path d=\"M 794 531 \r\nL 1825 531 \r\nL 1825 4091 \r\nL 703 3866 \r\nL 703 4441 \r\nL 1819 4666 \r\nL 2450 4666 \r\nL 2450 531 \r\nL 3481 531 \r\nL 3481 0 \r\nL 794 0 \r\nL 794 531 \r\nz\r\n\" id=\"DejaVuSans-31\" transform=\"scale(0.015625)\"/>\r\n        <path d=\"M 2034 2216 \r\nQ 1584 2216 1326 1975 \r\nQ 1069 1734 1069 1313 \r\nQ 1069 891 1326 650 \r\nQ 1584 409 2034 409 \r\nQ 2484 409 2743 651 \r\nQ 3003 894 3003 1313 \r\nQ 3003 1734 2745 1975 \r\nQ 2488 2216 2034 2216 \r\nz\r\nM 1403 2484 \r\nQ 997 2584 770 2862 \r\nQ 544 3141 544 3541 \r\nQ 544 4100 942 4425 \r\nQ 1341 4750 2034 4750 \r\nQ 2731 4750 3128 4425 \r\nQ 3525 4100 3525 3541 \r\nQ 3525 3141 3298 2862 \r\nQ 3072 2584 2669 2484 \r\nQ 3125 2378 3379 2068 \r\nQ 3634 1759 3634 1313 \r\nQ 3634 634 3220 271 \r\nQ 2806 -91 2034 -91 \r\nQ 1263 -91 848 271 \r\nQ 434 634 434 1313 \r\nQ 434 1759 690 2068 \r\nQ 947 2378 1403 2484 \r\nz\r\nM 1172 3481 \r\nQ 1172 3119 1398 2916 \r\nQ 1625 2713 2034 2713 \r\nQ 2441 2713 2670 2916 \r\nQ 2900 3119 2900 3481 \r\nQ 2900 3844 2670 4047 \r\nQ 2441 4250 2034 4250 \r\nQ 1625 4250 1398 4047 \r\nQ 1172 3844 1172 3481 \r\nz\r\n\" id=\"DejaVuSans-38\" transform=\"scale(0.015625)\"/>\r\n       </defs>\r\n       <use xlink:href=\"#DejaVuSans-32\"/>\r\n       <use x=\"63.623047\" xlink:href=\"#DejaVuSans-30\"/>\r\n       <use x=\"127.246094\" xlink:href=\"#DejaVuSans-31\"/>\r\n       <use x=\"190.869141\" xlink:href=\"#DejaVuSans-38\"/>\r\n      </g>\r\n     </g>\r\n    </g>\r\n    <g id=\"xtick_3\">\r\n     <g id=\"line2d_3\">\r\n      <g>\r\n       <use style=\"stroke:#000000;stroke-width:0.8;\" x=\"226.06501\" xlink:href=\"#m41a91cb395\" y=\"224.64\"/>\r\n      </g>\r\n     </g>\r\n     <g id=\"text_3\">\r\n      <!-- Jan -->\r\n      <g transform=\"translate(218.357198 239.238437)scale(0.1 -0.1)\">\r\n       <use xlink:href=\"#DejaVuSans-4a\"/>\r\n       <use x=\"29.492188\" xlink:href=\"#DejaVuSans-61\"/>\r\n       <use x=\"90.771484\" xlink:href=\"#DejaVuSans-6e\"/>\r\n      </g>\r\n      <!-- 2019 -->\r\n      <g transform=\"translate(213.34001 250.43625)scale(0.1 -0.1)\">\r\n       <defs>\r\n        <path d=\"M 703 97 \r\nL 703 672 \r\nQ 941 559 1184 500 \r\nQ 1428 441 1663 441 \r\nQ 2288 441 2617 861 \r\nQ 2947 1281 2994 2138 \r\nQ 2813 1869 2534 1725 \r\nQ 2256 1581 1919 1581 \r\nQ 1219 1581 811 2004 \r\nQ 403 2428 403 3163 \r\nQ 403 3881 828 4315 \r\nQ 1253 4750 1959 4750 \r\nQ 2769 4750 3195 4129 \r\nQ 3622 3509 3622 2328 \r\nQ 3622 1225 3098 567 \r\nQ 2575 -91 1691 -91 \r\nQ 1453 -91 1209 -44 \r\nQ 966 3 703 97 \r\nz\r\nM 1959 2075 \r\nQ 2384 2075 2632 2365 \r\nQ 2881 2656 2881 3163 \r\nQ 2881 3666 2632 3958 \r\nQ 2384 4250 1959 4250 \r\nQ 1534 4250 1286 3958 \r\nQ 1038 3666 1038 3163 \r\nQ 1038 2656 1286 2365 \r\nQ 1534 2075 1959 2075 \r\nz\r\n\" id=\"DejaVuSans-39\" transform=\"scale(0.015625)\"/>\r\n       </defs>\r\n       <use xlink:href=\"#DejaVuSans-32\"/>\r\n       <use x=\"63.623047\" xlink:href=\"#DejaVuSans-30\"/>\r\n       <use x=\"127.246094\" xlink:href=\"#DejaVuSans-31\"/>\r\n       <use x=\"190.869141\" xlink:href=\"#DejaVuSans-39\"/>\r\n      </g>\r\n     </g>\r\n    </g>\r\n    <g id=\"xtick_4\">\r\n     <g id=\"line2d_4\">\r\n      <g>\r\n       <use style=\"stroke:#000000;stroke-width:0.8;\" x=\"350.00213\" xlink:href=\"#m41a91cb395\" y=\"224.64\"/>\r\n      </g>\r\n     </g>\r\n     <g id=\"text_4\">\r\n      <!-- Jan -->\r\n      <g transform=\"translate(342.294317 239.238437)scale(0.1 -0.1)\">\r\n       <use xlink:href=\"#DejaVuSans-4a\"/>\r\n       <use x=\"29.492188\" xlink:href=\"#DejaVuSans-61\"/>\r\n       <use x=\"90.771484\" xlink:href=\"#DejaVuSans-6e\"/>\r\n      </g>\r\n      <!-- 2020 -->\r\n      <g transform=\"translate(337.27713 250.43625)scale(0.1 -0.1)\">\r\n       <use xlink:href=\"#DejaVuSans-32\"/>\r\n       <use x=\"63.623047\" xlink:href=\"#DejaVuSans-30\"/>\r\n       <use x=\"127.246094\" xlink:href=\"#DejaVuSans-32\"/>\r\n       <use x=\"190.869141\" xlink:href=\"#DejaVuSans-30\"/>\r\n      </g>\r\n     </g>\r\n    </g>\r\n    <g id=\"xtick_5\">\r\n     <g id=\"line2d_5\">\r\n      <g>\r\n       <use style=\"stroke:#000000;stroke-width:0.8;\" x=\"374.45\" xlink:href=\"#m41a91cb395\" y=\"224.64\"/>\r\n      </g>\r\n     </g>\r\n    </g>\r\n    <g id=\"xtick_6\">\r\n     <g id=\"line2d_6\">\r\n      <defs>\r\n       <path d=\"M 0 0 \r\nL 0 2 \r\n\" id=\"m2b99ffe98f\" style=\"stroke:#000000;stroke-width:0.6;\"/>\r\n      </defs>\r\n      <g>\r\n       <use style=\"stroke:#000000;stroke-width:0.6;\" x=\"50.176166\" xlink:href=\"#m2b99ffe98f\" y=\"224.64\"/>\r\n      </g>\r\n     </g>\r\n    </g>\r\n    <g id=\"xtick_7\">\r\n     <g id=\"line2d_7\">\r\n      <g>\r\n       <use style=\"stroke:#000000;stroke-width:0.6;\" x=\"60.702333\" xlink:href=\"#m2b99ffe98f\" y=\"224.64\"/>\r\n      </g>\r\n     </g>\r\n    </g>\r\n    <g id=\"xtick_8\">\r\n     <g id=\"line2d_8\">\r\n      <g>\r\n       <use style=\"stroke:#000000;stroke-width:0.6;\" x=\"70.888945\" xlink:href=\"#m2b99ffe98f\" y=\"224.64\"/>\r\n      </g>\r\n     </g>\r\n    </g>\r\n    <g id=\"xtick_9\">\r\n     <g id=\"line2d_9\">\r\n      <g>\r\n       <use style=\"stroke:#000000;stroke-width:0.6;\" x=\"81.415112\" xlink:href=\"#m2b99ffe98f\" y=\"224.64\"/>\r\n      </g>\r\n     </g>\r\n    </g>\r\n    <g id=\"xtick_10\">\r\n     <g id=\"line2d_10\">\r\n      <g>\r\n       <use style=\"stroke:#000000;stroke-width:0.6;\" x=\"91.601724\" xlink:href=\"#m2b99ffe98f\" y=\"224.64\"/>\r\n      </g>\r\n     </g>\r\n    </g>\r\n    <g id=\"xtick_11\">\r\n     <g id=\"line2d_11\">\r\n      <g>\r\n       <use style=\"stroke:#000000;stroke-width:0.6;\" x=\"112.654057\" xlink:href=\"#m2b99ffe98f\" y=\"224.64\"/>\r\n      </g>\r\n     </g>\r\n    </g>\r\n    <g id=\"xtick_12\">\r\n     <g id=\"line2d_12\">\r\n      <g>\r\n       <use style=\"stroke:#000000;stroke-width:0.6;\" x=\"122.161562\" xlink:href=\"#m2b99ffe98f\" y=\"224.64\"/>\r\n      </g>\r\n     </g>\r\n    </g>\r\n    <g id=\"xtick_13\">\r\n     <g id=\"line2d_13\">\r\n      <g>\r\n       <use style=\"stroke:#000000;stroke-width:0.6;\" x=\"132.687728\" xlink:href=\"#m2b99ffe98f\" y=\"224.64\"/>\r\n      </g>\r\n     </g>\r\n    </g>\r\n    <g id=\"xtick_14\">\r\n     <g id=\"line2d_14\">\r\n      <g>\r\n       <use style=\"stroke:#000000;stroke-width:0.6;\" x=\"142.874341\" xlink:href=\"#m2b99ffe98f\" y=\"224.64\"/>\r\n      </g>\r\n     </g>\r\n    </g>\r\n    <g id=\"xtick_15\">\r\n     <g id=\"line2d_15\">\r\n      <g>\r\n       <use style=\"stroke:#000000;stroke-width:0.6;\" x=\"153.400507\" xlink:href=\"#m2b99ffe98f\" y=\"224.64\"/>\r\n      </g>\r\n     </g>\r\n    </g>\r\n    <g id=\"xtick_16\">\r\n     <g id=\"line2d_16\">\r\n      <g>\r\n       <use style=\"stroke:#000000;stroke-width:0.6;\" x=\"163.58712\" xlink:href=\"#m2b99ffe98f\" y=\"224.64\"/>\r\n      </g>\r\n     </g>\r\n     <g id=\"text_5\">\r\n      <!-- Jul -->\r\n      <g transform=\"translate(157.554307 237.638437)scale(0.1 -0.1)\">\r\n       <use xlink:href=\"#DejaVuSans-4a\"/>\r\n       <use x=\"29.492188\" xlink:href=\"#DejaVuSans-75\"/>\r\n       <use x=\"92.871094\" xlink:href=\"#DejaVuSans-6c\"/>\r\n      </g>\r\n     </g>\r\n    </g>\r\n    <g id=\"xtick_17\">\r\n     <g id=\"line2d_17\">\r\n      <g>\r\n       <use style=\"stroke:#000000;stroke-width:0.6;\" x=\"174.113286\" xlink:href=\"#m2b99ffe98f\" y=\"224.64\"/>\r\n      </g>\r\n     </g>\r\n    </g>\r\n    <g id=\"xtick_18\">\r\n     <g id=\"line2d_18\">\r\n      <g>\r\n       <use style=\"stroke:#000000;stroke-width:0.6;\" x=\"184.639452\" xlink:href=\"#m2b99ffe98f\" y=\"224.64\"/>\r\n      </g>\r\n     </g>\r\n    </g>\r\n    <g id=\"xtick_19\">\r\n     <g id=\"line2d_19\">\r\n      <g>\r\n       <use style=\"stroke:#000000;stroke-width:0.6;\" x=\"194.826065\" xlink:href=\"#m2b99ffe98f\" y=\"224.64\"/>\r\n      </g>\r\n     </g>\r\n    </g>\r\n    <g id=\"xtick_20\">\r\n     <g id=\"line2d_20\">\r\n      <g>\r\n       <use style=\"stroke:#000000;stroke-width:0.6;\" x=\"205.352231\" xlink:href=\"#m2b99ffe98f\" y=\"224.64\"/>\r\n      </g>\r\n     </g>\r\n    </g>\r\n    <g id=\"xtick_21\">\r\n     <g id=\"line2d_21\">\r\n      <g>\r\n       <use style=\"stroke:#000000;stroke-width:0.6;\" x=\"215.538844\" xlink:href=\"#m2b99ffe98f\" y=\"224.64\"/>\r\n      </g>\r\n     </g>\r\n    </g>\r\n    <g id=\"xtick_22\">\r\n     <g id=\"line2d_22\">\r\n      <g>\r\n       <use style=\"stroke:#000000;stroke-width:0.6;\" x=\"236.591176\" xlink:href=\"#m2b99ffe98f\" y=\"224.64\"/>\r\n      </g>\r\n     </g>\r\n    </g>\r\n    <g id=\"xtick_23\">\r\n     <g id=\"line2d_23\">\r\n      <g>\r\n       <use style=\"stroke:#000000;stroke-width:0.6;\" x=\"246.098682\" xlink:href=\"#m2b99ffe98f\" y=\"224.64\"/>\r\n      </g>\r\n     </g>\r\n    </g>\r\n    <g id=\"xtick_24\">\r\n     <g id=\"line2d_24\">\r\n      <g>\r\n       <use style=\"stroke:#000000;stroke-width:0.6;\" x=\"256.624848\" xlink:href=\"#m2b99ffe98f\" y=\"224.64\"/>\r\n      </g>\r\n     </g>\r\n    </g>\r\n    <g id=\"xtick_25\">\r\n     <g id=\"line2d_25\">\r\n      <g>\r\n       <use style=\"stroke:#000000;stroke-width:0.6;\" x=\"266.81146\" xlink:href=\"#m2b99ffe98f\" y=\"224.64\"/>\r\n      </g>\r\n     </g>\r\n    </g>\r\n    <g id=\"xtick_26\">\r\n     <g id=\"line2d_26\">\r\n      <g>\r\n       <use style=\"stroke:#000000;stroke-width:0.6;\" x=\"277.337627\" xlink:href=\"#m2b99ffe98f\" y=\"224.64\"/>\r\n      </g>\r\n     </g>\r\n    </g>\r\n    <g id=\"xtick_27\">\r\n     <g id=\"line2d_27\">\r\n      <g>\r\n       <use style=\"stroke:#000000;stroke-width:0.6;\" x=\"287.524239\" xlink:href=\"#m2b99ffe98f\" y=\"224.64\"/>\r\n      </g>\r\n     </g>\r\n     <g id=\"text_6\">\r\n      <!-- Jul -->\r\n      <g transform=\"translate(281.491427 237.638437)scale(0.1 -0.1)\">\r\n       <use xlink:href=\"#DejaVuSans-4a\"/>\r\n       <use x=\"29.492188\" xlink:href=\"#DejaVuSans-75\"/>\r\n       <use x=\"92.871094\" xlink:href=\"#DejaVuSans-6c\"/>\r\n      </g>\r\n     </g>\r\n    </g>\r\n    <g id=\"xtick_28\">\r\n     <g id=\"line2d_28\">\r\n      <g>\r\n       <use style=\"stroke:#000000;stroke-width:0.6;\" x=\"298.050406\" xlink:href=\"#m2b99ffe98f\" y=\"224.64\"/>\r\n      </g>\r\n     </g>\r\n    </g>\r\n    <g id=\"xtick_29\">\r\n     <g id=\"line2d_29\">\r\n      <g>\r\n       <use style=\"stroke:#000000;stroke-width:0.6;\" x=\"308.576572\" xlink:href=\"#m2b99ffe98f\" y=\"224.64\"/>\r\n      </g>\r\n     </g>\r\n    </g>\r\n    <g id=\"xtick_30\">\r\n     <g id=\"line2d_30\">\r\n      <g>\r\n       <use style=\"stroke:#000000;stroke-width:0.6;\" x=\"318.763185\" xlink:href=\"#m2b99ffe98f\" y=\"224.64\"/>\r\n      </g>\r\n     </g>\r\n    </g>\r\n    <g id=\"xtick_31\">\r\n     <g id=\"line2d_31\">\r\n      <g>\r\n       <use style=\"stroke:#000000;stroke-width:0.6;\" x=\"329.289351\" xlink:href=\"#m2b99ffe98f\" y=\"224.64\"/>\r\n      </g>\r\n     </g>\r\n    </g>\r\n    <g id=\"xtick_32\">\r\n     <g id=\"line2d_32\">\r\n      <g>\r\n       <use style=\"stroke:#000000;stroke-width:0.6;\" x=\"339.475963\" xlink:href=\"#m2b99ffe98f\" y=\"224.64\"/>\r\n      </g>\r\n     </g>\r\n    </g>\r\n    <g id=\"xtick_33\">\r\n     <g id=\"line2d_33\">\r\n      <g>\r\n       <use style=\"stroke:#000000;stroke-width:0.6;\" x=\"360.528296\" xlink:href=\"#m2b99ffe98f\" y=\"224.64\"/>\r\n      </g>\r\n     </g>\r\n    </g>\r\n    <g id=\"xtick_34\">\r\n     <g id=\"line2d_34\">\r\n      <g>\r\n       <use style=\"stroke:#000000;stroke-width:0.6;\" x=\"370.375355\" xlink:href=\"#m2b99ffe98f\" y=\"224.64\"/>\r\n      </g>\r\n     </g>\r\n    </g>\r\n    <g id=\"text_7\">\r\n     <!-- Date -->\r\n     <g transform=\"translate(195.099219 264.114375)scale(0.1 -0.1)\">\r\n      <defs>\r\n       <path d=\"M 1259 4147 \r\nL 1259 519 \r\nL 2022 519 \r\nQ 2988 519 3436 956 \r\nQ 3884 1394 3884 2338 \r\nQ 3884 3275 3436 3711 \r\nQ 2988 4147 2022 4147 \r\nL 1259 4147 \r\nz\r\nM 628 4666 \r\nL 1925 4666 \r\nQ 3281 4666 3915 4102 \r\nQ 4550 3538 4550 2338 \r\nQ 4550 1131 3912 565 \r\nQ 3275 0 1925 0 \r\nL 628 0 \r\nL 628 4666 \r\nz\r\n\" id=\"DejaVuSans-44\" transform=\"scale(0.015625)\"/>\r\n       <path d=\"M 1172 4494 \r\nL 1172 3500 \r\nL 2356 3500 \r\nL 2356 3053 \r\nL 1172 3053 \r\nL 1172 1153 \r\nQ 1172 725 1289 603 \r\nQ 1406 481 1766 481 \r\nL 2356 481 \r\nL 2356 0 \r\nL 1766 0 \r\nQ 1100 0 847 248 \r\nQ 594 497 594 1153 \r\nL 594 3053 \r\nL 172 3053 \r\nL 172 3500 \r\nL 594 3500 \r\nL 594 4494 \r\nL 1172 4494 \r\nz\r\n\" id=\"DejaVuSans-74\" transform=\"scale(0.015625)\"/>\r\n       <path d=\"M 3597 1894 \r\nL 3597 1613 \r\nL 953 1613 \r\nQ 991 1019 1311 708 \r\nQ 1631 397 2203 397 \r\nQ 2534 397 2845 478 \r\nQ 3156 559 3463 722 \r\nL 3463 178 \r\nQ 3153 47 2828 -22 \r\nQ 2503 -91 2169 -91 \r\nQ 1331 -91 842 396 \r\nQ 353 884 353 1716 \r\nQ 353 2575 817 3079 \r\nQ 1281 3584 2069 3584 \r\nQ 2775 3584 3186 3129 \r\nQ 3597 2675 3597 1894 \r\nz\r\nM 3022 2063 \r\nQ 3016 2534 2758 2815 \r\nQ 2500 3097 2075 3097 \r\nQ 1594 3097 1305 2825 \r\nQ 1016 2553 972 2059 \r\nL 3022 2063 \r\nz\r\n\" id=\"DejaVuSans-65\" transform=\"scale(0.015625)\"/>\r\n      </defs>\r\n      <use xlink:href=\"#DejaVuSans-44\"/>\r\n      <use x=\"77.001953\" xlink:href=\"#DejaVuSans-61\"/>\r\n      <use x=\"138.28125\" xlink:href=\"#DejaVuSans-74\"/>\r\n      <use x=\"177.490234\" xlink:href=\"#DejaVuSans-65\"/>\r\n     </g>\r\n    </g>\r\n   </g>\r\n   <g id=\"matplotlib.axis_2\">\r\n    <g id=\"ytick_1\">\r\n     <g id=\"line2d_35\">\r\n      <defs>\r\n       <path d=\"M 0 0 \r\nL -3.5 0 \r\n\" id=\"m8247c41ffb\" style=\"stroke:#000000;stroke-width:0.8;\"/>\r\n      </defs>\r\n      <g>\r\n       <use style=\"stroke:#000000;stroke-width:0.8;\" x=\"39.65\" xlink:href=\"#m8247c41ffb\" y=\"197.631841\"/>\r\n      </g>\r\n     </g>\r\n     <g id=\"text_8\">\r\n      <!-- 200 -->\r\n      <g transform=\"translate(13.5625 201.43106)scale(0.1 -0.1)\">\r\n       <use xlink:href=\"#DejaVuSans-32\"/>\r\n       <use x=\"63.623047\" xlink:href=\"#DejaVuSans-30\"/>\r\n       <use x=\"127.246094\" xlink:href=\"#DejaVuSans-30\"/>\r\n      </g>\r\n     </g>\r\n    </g>\r\n    <g id=\"ytick_2\">\r\n     <g id=\"line2d_36\">\r\n      <g>\r\n       <use style=\"stroke:#000000;stroke-width:0.8;\" x=\"39.65\" xlink:href=\"#m8247c41ffb\" y=\"168.032804\"/>\r\n      </g>\r\n     </g>\r\n     <g id=\"text_9\">\r\n      <!-- 400 -->\r\n      <g transform=\"translate(13.5625 171.832023)scale(0.1 -0.1)\">\r\n       <defs>\r\n        <path d=\"M 2419 4116 \r\nL 825 1625 \r\nL 2419 1625 \r\nL 2419 4116 \r\nz\r\nM 2253 4666 \r\nL 3047 4666 \r\nL 3047 1625 \r\nL 3713 1625 \r\nL 3713 1100 \r\nL 3047 1100 \r\nL 3047 0 \r\nL 2419 0 \r\nL 2419 1100 \r\nL 313 1100 \r\nL 313 1709 \r\nL 2253 4666 \r\nz\r\n\" id=\"DejaVuSans-34\" transform=\"scale(0.015625)\"/>\r\n       </defs>\r\n       <use xlink:href=\"#DejaVuSans-34\"/>\r\n       <use x=\"63.623047\" xlink:href=\"#DejaVuSans-30\"/>\r\n       <use x=\"127.246094\" xlink:href=\"#DejaVuSans-30\"/>\r\n      </g>\r\n     </g>\r\n    </g>\r\n    <g id=\"ytick_3\">\r\n     <g id=\"line2d_37\">\r\n      <g>\r\n       <use style=\"stroke:#000000;stroke-width:0.8;\" x=\"39.65\" xlink:href=\"#m8247c41ffb\" y=\"138.433767\"/>\r\n      </g>\r\n     </g>\r\n     <g id=\"text_10\">\r\n      <!-- 600 -->\r\n      <g transform=\"translate(13.5625 142.232986)scale(0.1 -0.1)\">\r\n       <defs>\r\n        <path d=\"M 2113 2584 \r\nQ 1688 2584 1439 2293 \r\nQ 1191 2003 1191 1497 \r\nQ 1191 994 1439 701 \r\nQ 1688 409 2113 409 \r\nQ 2538 409 2786 701 \r\nQ 3034 994 3034 1497 \r\nQ 3034 2003 2786 2293 \r\nQ 2538 2584 2113 2584 \r\nz\r\nM 3366 4563 \r\nL 3366 3988 \r\nQ 3128 4100 2886 4159 \r\nQ 2644 4219 2406 4219 \r\nQ 1781 4219 1451 3797 \r\nQ 1122 3375 1075 2522 \r\nQ 1259 2794 1537 2939 \r\nQ 1816 3084 2150 3084 \r\nQ 2853 3084 3261 2657 \r\nQ 3669 2231 3669 1497 \r\nQ 3669 778 3244 343 \r\nQ 2819 -91 2113 -91 \r\nQ 1303 -91 875 529 \r\nQ 447 1150 447 2328 \r\nQ 447 3434 972 4092 \r\nQ 1497 4750 2381 4750 \r\nQ 2619 4750 2861 4703 \r\nQ 3103 4656 3366 4563 \r\nz\r\n\" id=\"DejaVuSans-36\" transform=\"scale(0.015625)\"/>\r\n       </defs>\r\n       <use xlink:href=\"#DejaVuSans-36\"/>\r\n       <use x=\"63.623047\" xlink:href=\"#DejaVuSans-30\"/>\r\n       <use x=\"127.246094\" xlink:href=\"#DejaVuSans-30\"/>\r\n      </g>\r\n     </g>\r\n    </g>\r\n    <g id=\"ytick_4\">\r\n     <g id=\"line2d_38\">\r\n      <g>\r\n       <use style=\"stroke:#000000;stroke-width:0.8;\" x=\"39.65\" xlink:href=\"#m8247c41ffb\" y=\"108.834731\"/>\r\n      </g>\r\n     </g>\r\n     <g id=\"text_11\">\r\n      <!-- 800 -->\r\n      <g transform=\"translate(13.5625 112.633949)scale(0.1 -0.1)\">\r\n       <use xlink:href=\"#DejaVuSans-38\"/>\r\n       <use x=\"63.623047\" xlink:href=\"#DejaVuSans-30\"/>\r\n       <use x=\"127.246094\" xlink:href=\"#DejaVuSans-30\"/>\r\n      </g>\r\n     </g>\r\n    </g>\r\n    <g id=\"ytick_5\">\r\n     <g id=\"line2d_39\">\r\n      <g>\r\n       <use style=\"stroke:#000000;stroke-width:0.8;\" x=\"39.65\" xlink:href=\"#m8247c41ffb\" y=\"79.235694\"/>\r\n      </g>\r\n     </g>\r\n     <g id=\"text_12\">\r\n      <!-- 1000 -->\r\n      <g transform=\"translate(7.2 83.034913)scale(0.1 -0.1)\">\r\n       <use xlink:href=\"#DejaVuSans-31\"/>\r\n       <use x=\"63.623047\" xlink:href=\"#DejaVuSans-30\"/>\r\n       <use x=\"127.246094\" xlink:href=\"#DejaVuSans-30\"/>\r\n       <use x=\"190.869141\" xlink:href=\"#DejaVuSans-30\"/>\r\n      </g>\r\n     </g>\r\n    </g>\r\n    <g id=\"ytick_6\">\r\n     <g id=\"line2d_40\">\r\n      <g>\r\n       <use style=\"stroke:#000000;stroke-width:0.8;\" x=\"39.65\" xlink:href=\"#m8247c41ffb\" y=\"49.636657\"/>\r\n      </g>\r\n     </g>\r\n     <g id=\"text_13\">\r\n      <!-- 1200 -->\r\n      <g transform=\"translate(7.2 53.435876)scale(0.1 -0.1)\">\r\n       <use xlink:href=\"#DejaVuSans-31\"/>\r\n       <use x=\"63.623047\" xlink:href=\"#DejaVuSans-32\"/>\r\n       <use x=\"127.246094\" xlink:href=\"#DejaVuSans-30\"/>\r\n       <use x=\"190.869141\" xlink:href=\"#DejaVuSans-30\"/>\r\n      </g>\r\n     </g>\r\n    </g>\r\n    <g id=\"ytick_7\">\r\n     <g id=\"line2d_41\">\r\n      <g>\r\n       <use style=\"stroke:#000000;stroke-width:0.8;\" x=\"39.65\" xlink:href=\"#m8247c41ffb\" y=\"20.03762\"/>\r\n      </g>\r\n     </g>\r\n     <g id=\"text_14\">\r\n      <!-- 1400 -->\r\n      <g transform=\"translate(7.2 23.836839)scale(0.1 -0.1)\">\r\n       <use xlink:href=\"#DejaVuSans-31\"/>\r\n       <use x=\"63.623047\" xlink:href=\"#DejaVuSans-34\"/>\r\n       <use x=\"127.246094\" xlink:href=\"#DejaVuSans-30\"/>\r\n       <use x=\"190.869141\" xlink:href=\"#DejaVuSans-30\"/>\r\n      </g>\r\n     </g>\r\n    </g>\r\n   </g>\r\n   <g id=\"line2d_42\">\r\n    <path clip-path=\"url(#pa650b4ce3d)\" d=\"M 39.65 185.793706 \r\nL 39.989554 183.760252 \r\nL 40.329108 185.05225 \r\nL 40.668661 185.3734 \r\nL 41.008215 186.536642 \r\nL 41.347769 186.532202 \r\nL 41.687323 187.720603 \r\nL 42.026876 190.306079 \r\nL 42.36643 189.742218 \r\nL 42.705984 191.663195 \r\nL 43.045538 195.18992 \r\nL 43.385091 193.35774 \r\nL 43.724645 193.635971 \r\nL 44.064199 196.597355 \r\nL 44.403753 197.784276 \r\nL 44.743306 201.731308 \r\nL 45.08286 198.8898 \r\nL 45.422414 190.320879 \r\nL 46.101521 192.156019 \r\nL 46.441075 192.008024 \r\nL 46.780629 192.056862 \r\nL 47.79929 193.696649 \r\nL 48.138844 196.168169 \r\nL 48.478398 196.891865 \r\nL 48.817951 197.04726 \r\nL 49.157505 196.185928 \r\nL 49.497059 196.166689 \r\nL 49.836613 197.33881 \r\nL 50.176166 192.787959 \r\nL 50.51572 193.36958 \r\nL 51.194828 193.66261 \r\nL 51.534381 188.903085 \r\nL 51.873935 186.828192 \r\nL 52.213489 186.560321 \r\nL 52.553043 182.91372 \r\nL 52.892596 180.655313 \r\nL 53.23215 181.38197 \r\nL 53.571704 181.352371 \r\nL 53.911258 179.916817 \r\nL 54.250811 181.35977 \r\nL 54.590365 181.448568 \r\nL 54.929919 182.953679 \r\nL 55.609026 181.439688 \r\nL 55.94858 181.931032 \r\nL 56.288134 183.024716 \r\nL 56.627688 183.054315 \r\nL 56.967241 176.270216 \r\nL 57.306795 178.396907 \r\nL 57.646349 179.190161 \r\nL 57.985903 178.688457 \r\nL 58.325456 177.357981 \r\nL 58.66501 177.725009 \r\nL 59.004564 175.698955 \r\nL 59.344118 175.434043 \r\nL 60.023225 169.216766 \r\nL 60.362779 169.517196 \r\nL 60.702333 168.494549 \r\nL 61.041886 168.956294 \r\nL 62.060548 179.132443 \r\nL 62.400101 176.172539 \r\nL 63.079209 177.569614 \r\nL 63.418763 180.779629 \r\nL 63.758316 181.870354 \r\nL 64.09787 181.652801 \r\nL 64.437424 180.43628 \r\nL 64.776978 183.646296 \r\nL 65.456085 187.273658 \r\nL 65.795639 186.088217 \r\nL 66.135193 187.094584 \r\nL 66.474746 182.314339 \r\nL 66.8143 182.684327 \r\nL 67.493408 184.75774 \r\nL 67.832961 186.976188 \r\nL 68.172515 183.588578 \r\nL 68.512069 183.607817 \r\nL 68.851623 183.320707 \r\nL 69.191176 183.585618 \r\nL 69.53073 180.945384 \r\nL 69.870284 181.352371 \r\nL 70.209838 183.128313 \r\nL 70.549391 182.138225 \r\nL 71.228499 182.536332 \r\nL 71.907606 183.572298 \r\nL 72.24716 183.277788 \r\nL 72.586714 180.668633 \r\nL 72.926268 180.908385 \r\nL 73.265822 180.819588 \r\nL 73.944929 182.092347 \r\nL 74.624037 181.796356 \r\nL 74.96359 176.172539 \r\nL 75.642698 175.580559 \r\nL 75.982252 175.432563 \r\nL 76.661359 180.433321 \r\nL 77.000913 180.671593 \r\nL 77.340467 181.125938 \r\nL 78.019574 182.372057 \r\nL 78.359128 181.352371 \r\nL 78.698682 181.100779 \r\nL 79.038235 182.688767 \r\nL 80.056897 183.157912 \r\nL 80.39645 181.352371 \r\nL 81.075558 181.36125 \r\nL 81.415112 182.092347 \r\nL 81.754665 184.011844 \r\nL 82.094219 181.639481 \r\nL 82.773327 182.58813 \r\nL 83.11288 182.107146 \r\nL 83.452434 182.240342 \r\nL 83.791988 179.888698 \r\nL 84.131542 178.470904 \r\nL 85.150203 180.383002 \r\nL 85.489757 180.020414 \r\nL 85.82931 177.36982 \r\nL 86.168864 176.788199 \r\nL 86.508418 177.68209 \r\nL 86.847972 177.756088 \r\nL 87.187525 175.580559 \r\nL 87.527079 171.777082 \r\nL 88.206187 172.030154 \r\nL 88.54574 170.554642 \r\nL 89.224848 156.209469 \r\nL 89.564402 155.009228 \r\nL 89.903955 156.540978 \r\nL 90.243509 154.270732 \r\nL 90.583063 155.749204 \r\nL 90.922617 150.550133 \r\nL 91.26217 157.673141 \r\nL 91.601724 157.905494 \r\nL 92.280832 155.675206 \r\nL 92.620385 157.229156 \r\nL 92.959939 157.673141 \r\nL 93.299493 158.858583 \r\nL 93.639047 160.79732 \r\nL 93.9786 156.326385 \r\nL 94.318154 148.038655 \r\nL 94.657708 155.285979 \r\nL 94.997262 150.34886 \r\nL 95.336815 121.562316 \r\nL 95.676369 111.088697 \r\nL 96.015923 115.050528 \r\nL 96.355477 122.746278 \r\nL 96.69503 118.454418 \r\nL 97.034584 116.688835 \r\nL 97.374138 109.010845 \r\nL 97.713692 97.735092 \r\nL 98.053245 103.862092 \r\nL 98.392799 102.174947 \r\nL 98.732353 108.84213 \r\nL 99.071907 112.53609 \r\nL 99.41146 118.475137 \r\nL 99.751014 114.772297 \r\nL 100.090568 113.126591 \r\nL 100.430122 113.718572 \r\nL 100.769675 117.372573 \r\nL 101.109229 115.494514 \r\nL 101.448783 116.397284 \r\nL 101.788337 116.086495 \r\nL 102.12789 114.019002 \r\nL 102.467444 97.217109 \r\nL 102.806998 86.638413 \r\nL 103.146552 79.991949 \r\nL 103.486105 77.015766 \r\nL 103.825659 77.887458 \r\nL 104.504767 45.346277 \r\nL 105.183874 21.963038 \r\nL 105.862982 37.057066 \r\nL 106.202535 17.083636 \r\nL 106.542089 21.649288 \r\nL 106.881643 22.853969 \r\nL 107.900304 64.436175 \r\nL 108.239858 65.472142 \r\nL 108.579412 54.820928 \r\nL 108.918966 56.888421 \r\nL 109.598073 76.423785 \r\nL 110.277181 64.622649 \r\nL 110.616734 68.617039 \r\nL 110.956288 61.627227 \r\nL 111.295842 46.084773 \r\nL 111.635396 46.419242 \r\nL 112.314503 61.323837 \r\nL 112.654057 58.072382 \r\nL 112.993611 76.204752 \r\nL 113.672718 83.616351 \r\nL 114.012272 100.325007 \r\nL 114.351826 107.724767 \r\nL 114.691379 99.290521 \r\nL 115.030933 102.470938 \r\nL 115.710041 92.738774 \r\nL 116.049594 101.17302 \r\nL 116.389148 97.878647 \r\nL 116.728702 98.848016 \r\nL 117.068256 90.379731 \r\nL 117.407809 86.897404 \r\nL 117.747363 87.387269 \r\nL 118.086917 82.670662 \r\nL 118.426471 81.753092 \r\nL 118.766024 85.747482 \r\nL 119.105578 85.451492 \r\nL 119.784686 98.475068 \r\nL 120.124239 96.55113 \r\nL 120.463793 97.78541 \r\nL 120.803347 101.544488 \r\nL 121.142901 97.365104 \r\nL 121.482454 94.923183 \r\nL 121.822008 95.885152 \r\nL 122.161562 97.291106 \r\nL 123.180223 99.215044 \r\nL 123.519777 99.067048 \r\nL 123.859331 101.439411 \r\nL 124.198884 105.134851 \r\nL 124.877992 118.602413 \r\nL 125.217546 116.382485 \r\nL 125.557099 118.454418 \r\nL 125.896653 117.862437 \r\nL 126.236207 121.643714 \r\nL 126.575761 123.264261 \r\nL 126.915314 135.256311 \r\nL 127.254868 134.566653 \r\nL 127.594422 136.962695 \r\nL 127.933976 142.281642 \r\nL 128.273529 144.220379 \r\nL 128.613083 143.311689 \r\nL 128.952637 139.950718 \r\nL 129.292191 141.581625 \r\nL 129.631744 146.863573 \r\nL 129.971298 146.434387 \r\nL 130.650406 149.533406 \r\nL 131.329513 158.429397 \r\nL 131.669067 160.929035 \r\nL 132.008621 166.404857 \r\nL 132.348174 162.852973 \r\nL 132.687728 167.936607 \r\nL 133.027282 168.928175 \r\nL 133.366836 164.837588 \r\nL 133.706389 165.368891 \r\nL 134.045943 169.927142 \r\nL 134.385497 170.073658 \r\nL 135.064604 167.426024 \r\nL 135.404158 163.296958 \r\nL 135.743712 165.330412 \r\nL 136.083266 163.026127 \r\nL 136.422819 153.677271 \r\nL 136.762373 148.888147 \r\nL 137.101927 151.182072 \r\nL 137.441481 148.117092 \r\nL 137.781034 147.683466 \r\nL 138.120588 149.986271 \r\nL 138.460142 149.312893 \r\nL 139.139249 135.145314 \r\nL 139.478803 134.850804 \r\nL 139.818357 132.000417 \r\nL 140.157911 131.408436 \r\nL 140.497465 122.006302 \r\nL 140.837018 123.042268 \r\nL 141.176572 128.544729 \r\nL 141.516126 125.719501 \r\nL 141.85568 124.732373 \r\nL 142.195233 124.121153 \r\nL 142.534787 124.751613 \r\nL 142.874341 127.332649 \r\nL 143.213895 125.117161 \r\nL 143.553448 111.090177 \r\nL 144.232556 105.183689 \r\nL 144.57211 104.54731 \r\nL 144.911663 110.317642 \r\nL 145.590771 114.828536 \r\nL 145.930325 113.570576 \r\nL 146.609432 124.760492 \r\nL 146.948986 117.668563 \r\nL 147.28854 116.974466 \r\nL 147.628093 118.010432 \r\nL 147.967647 122.089179 \r\nL 148.307201 121.093172 \r\nL 148.646755 124.417143 \r\nL 148.986308 121.301845 \r\nL 149.325862 120.23036 \r\nL 149.665416 121.118331 \r\nL 150.00497 123.782244 \r\nL 150.684077 137.070732 \r\nL 151.023631 136.065844 \r\nL 151.363185 137.545796 \r\nL 152.042292 142.133647 \r\nL 152.381846 142.3512 \r\nL 152.7214 140.51754 \r\nL 153.060953 140.061714 \r\nL 153.400507 140.20971 \r\nL 153.740061 138.433767 \r\nL 154.079615 134.315061 \r\nL 154.419168 134.504495 \r\nL 154.758722 136.657825 \r\nL 155.098276 136.703704 \r\nL 155.43783 136.175361 \r\nL 155.777383 137.397801 \r\nL 156.116937 137.249806 \r\nL 156.456491 139.409056 \r\nL 156.796045 147.779663 \r\nL 157.135598 147.462954 \r\nL 157.475152 152.878097 \r\nL 157.814706 148.891107 \r\nL 158.15426 150.125387 \r\nL 158.493813 152.817419 \r\nL 158.833367 152.074483 \r\nL 159.512475 146.218314 \r\nL 159.852028 147.047087 \r\nL 160.191582 146.687459 \r\nL 160.531136 149.437209 \r\nL 160.87069 155.935678 \r\nL 161.549797 157.189197 \r\nL 162.228905 161.225026 \r\nL 162.908012 161.817006 \r\nL 163.247566 158.784585 \r\nL 163.58712 159.764313 \r\nL 163.926673 155.900159 \r\nL 164.266227 155.192742 \r\nL 164.945335 156.49066 \r\nL 165.284888 156.934645 \r\nL 165.963996 154.01174 \r\nL 166.30355 155.009228 \r\nL 166.643103 157.229156 \r\nL 166.982657 160.849118 \r\nL 167.322211 161.051871 \r\nL 167.661765 161.771128 \r\nL 168.001318 162.114477 \r\nL 168.340872 160.009985 \r\nL 169.01998 151.636418 \r\nL 169.359533 150.883122 \r\nL 169.699087 155.618968 \r\nL 170.038641 157.861095 \r\nL 170.378195 157.843336 \r\nL 170.717748 157.41563 \r\nL 171.057302 157.776738 \r\nL 171.396856 155.613048 \r\nL 171.73641 155.537571 \r\nL 172.075963 155.618968 \r\nL 172.415517 157.180317 \r\nL 172.755071 157.523666 \r\nL 173.094625 157.470388 \r\nL 173.434178 157.821136 \r\nL 173.773732 159.55268 \r\nL 174.113286 162.781935 \r\nL 174.45284 164.390643 \r\nL 174.792394 165.032942 \r\nL 175.131947 165.197216 \r\nL 175.471501 166.060028 \r\nL 175.811055 166.083708 \r\nL 176.150609 166.552852 \r\nL 176.490162 170.878752 \r\nL 176.829716 172.311345 \r\nL 177.16927 172.996563 \r\nL 177.508824 178.096477 \r\nL 177.848377 178.670698 \r\nL 178.187931 179.53647 \r\nL 178.527485 185.05225 \r\nL 178.867039 182.033149 \r\nL 179.206592 182.996597 \r\nL 179.546146 180.020414 \r\nL 179.8857 179.552749 \r\nL 180.225254 181.700159 \r\nL 180.564807 182.240342 \r\nL 180.904361 184.842097 \r\nL 181.243915 182.981798 \r\nL 181.583469 185.734508 \r\nL 181.923022 185.292002 \r\nL 182.262576 185.35564 \r\nL 182.60213 186.092656 \r\nL 183.281237 183.181591 \r\nL 183.620791 183.22895 \r\nL 184.299899 185.096649 \r\nL 184.639452 182.506733 \r\nL 185.997667 184.615664 \r\nL 186.337221 192.659203 \r\nL 186.676775 192.565966 \r\nL 187.355882 196.373882 \r\nL 187.695436 197.232254 \r\nL 188.03499 197.742837 \r\nL 188.374544 199.829569 \r\nL 188.714097 195.411913 \r\nL 189.053651 194.035558 \r\nL 189.393205 193.561973 \r\nL 189.732759 194.164314 \r\nL 190.072312 193.946761 \r\nL 190.411866 195.431153 \r\nL 190.75142 195.459272 \r\nL 191.090974 193.585653 \r\nL 191.430527 189.936091 \r\nL 191.770081 189.492106 \r\nL 192.449189 190.855141 \r\nL 192.788742 193.486496 \r\nL 193.128296 194.312309 \r\nL 193.46785 192.674002 \r\nL 194.146957 192.400211 \r\nL 194.486511 191.905907 \r\nL 195.165619 193.032151 \r\nL 195.505172 193.946761 \r\nL 195.844726 193.834284 \r\nL 196.18428 193.141667 \r\nL 196.523834 193.627091 \r\nL 196.863387 193.791366 \r\nL 197.202941 193.029191 \r\nL 198.221602 194.137675 \r\nL 198.561156 197.853834 \r\nL 198.90071 197.873073 \r\nL 199.240264 197.719158 \r\nL 199.579817 194.57722 \r\nL 199.919371 196.452319 \r\nL 200.598479 196.808988 \r\nL 200.938032 197.414288 \r\nL 201.277586 196.942183 \r\nL 201.61714 196.794188 \r\nL 201.956694 197.187855 \r\nL 202.296247 197.34177 \r\nL 202.635801 197.266293 \r\nL 202.975355 197.525284 \r\nL 203.314909 196.988062 \r\nL 203.654462 197.380249 \r\nL 203.994016 197.210055 \r\nL 204.33357 197.239654 \r\nL 204.673124 198.163144 \r\nL 205.012677 197.631841 \r\nL 205.352231 197.834594 \r\nL 205.691785 197.372849 \r\nL 206.031339 197.631841 \r\nL 206.370892 195.001966 \r\nL 206.710446 195.974295 \r\nL 207.05 194.808093 \r\nL 207.389554 194.260511 \r\nL 208.068661 195.8263 \r\nL 208.408215 195.778941 \r\nL 208.747769 195.978735 \r\nL 209.087323 195.971335 \r\nL 209.426876 196.333923 \r\nL 209.76643 196.906665 \r\nL 210.105984 200.443749 \r\nL 210.445538 200.627263 \r\nL 210.785091 201.419038 \r\nL 211.124645 200.562146 \r\nL 211.464199 201.195565 \r\nL 211.803753 205.105598 \r\nL 212.143306 206.88154 \r\nL 212.48286 206.998456 \r\nL 212.822414 208.70928 \r\nL 213.161968 208.599764 \r\nL 213.501521 209.64461 \r\nL 213.841075 209.933201 \r\nL 214.180629 210.714615 \r\nL 214.520183 208.516887 \r\nL 215.19929 209.619451 \r\nL 215.878398 209.552853 \r\nL 216.557505 210.655417 \r\nL 216.897059 211.044644 \r\nL 217.576166 212.896064 \r\nL 218.255274 212.682951 \r\nL 218.934381 213.758876 \r\nL 219.613489 213.874312 \r\nL 219.953043 214.506252 \r\nL 220.292596 214.756364 \r\nL 220.63215 214.396735 \r\nL 220.971704 212.913824 \r\nL 221.650811 211.265157 \r\nL 221.990365 209.619451 \r\nL 222.329919 209.471456 \r\nL 222.669473 210.019038 \r\nL 223.009026 207.547518 \r\nL 223.34858 203.624166 \r\nL 223.688134 206.473073 \r\nL 224.027688 206.996976 \r\nL 224.367241 207.728072 \r\nL 225.046349 205.431187 \r\nL 225.385903 206.416835 \r\nL 225.725456 206.674347 \r\nL 226.06501 206.378356 \r\nL 226.404564 204.041512 \r\nL 226.744118 204.374501 \r\nL 227.083671 204.216147 \r\nL 227.423225 203.461371 \r\nL 227.762779 203.613806 \r\nL 228.102333 203.973435 \r\nL 228.441886 204.602414 \r\nL 228.78144 204.605374 \r\nL 229.120994 204.898404 \r\nL 229.460548 208.163178 \r\nL 230.139655 208.700401 \r\nL 230.479209 207.739912 \r\nL 230.818763 207.901227 \r\nL 231.49787 208.904634 \r\nL 231.837424 209.045229 \r\nL 232.176978 208.539086 \r\nL 232.516531 208.923873 \r\nL 232.856085 209.764486 \r\nL 233.195639 209.558773 \r\nL 233.535193 209.63425 \r\nL 233.874746 209.899162 \r\nL 234.553854 209.845883 \r\nL 234.893408 210.144834 \r\nL 235.232961 210.640618 \r\nL 235.572515 211.546348 \r\nL 235.912069 211.032805 \r\nL 236.251623 210.955847 \r\nL 236.591176 211.293276 \r\nL 236.93073 210.954367 \r\nL 237.270284 210.951407 \r\nL 237.949391 211.469391 \r\nL 238.288945 211.49751 \r\nL 238.628499 211.725422 \r\nL 238.968053 209.175465 \r\nL 239.307606 209.505495 \r\nL 239.64716 208.690041 \r\nL 240.326268 209.131067 \r\nL 240.665822 208.73148 \r\nL 241.005375 208.994911 \r\nL 241.684483 208.938673 \r\nL 242.36359 205.35719 \r\nL 242.703144 205.110038 \r\nL 243.042698 205.268392 \r\nL 243.382252 205.238793 \r\nL 243.721805 205.401588 \r\nL 244.061359 203.564968 \r\nL 244.400913 202.719915 \r\nL 244.740467 206.350237 \r\nL 245.08002 206.681746 \r\nL 245.419574 206.511552 \r\nL 246.098682 206.8771 \r\nL 246.438235 207.19381 \r\nL 246.777789 207.338845 \r\nL 247.117343 207.958945 \r\nL 247.456897 206.88302 \r\nL 247.79645 206.511552 \r\nL 248.136004 206.55891 \r\nL 250.173327 207.556398 \r\nL 250.852434 206.968857 \r\nL 251.191988 205.475586 \r\nL 251.531542 206.428675 \r\nL 251.871095 206.319158 \r\nL 252.210649 206.711345 \r\nL 252.550203 206.610709 \r\nL 252.889757 206.638828 \r\nL 253.22931 206.965897 \r\nL 253.568864 206.88154 \r\nL 254.587525 207.429122 \r\nL 254.927079 206.554471 \r\nL 255.266633 206.647708 \r\nL 255.606187 206.054247 \r\nL 255.94574 205.700538 \r\nL 256.285294 206.175603 \r\nL 256.624848 206.067566 \r\nL 256.964402 202.441684 \r\nL 257.303955 200.576945 \r\nL 257.643509 202.835352 \r\nL 258.66217 201.010571 \r\nL 259.001724 199.464021 \r\nL 259.341278 200.468909 \r\nL 259.680832 199.760012 \r\nL 260.359939 202.238931 \r\nL 260.699493 202.597079 \r\nL 261.039047 202.182693 \r\nL 261.3786 202.107215 \r\nL 261.718154 202.27889 \r\nL 262.057708 202.25965 \r\nL 262.397262 201.158566 \r\nL 262.736815 201.3554 \r\nL 263.076369 200.911414 \r\nL 263.415923 201.413118 \r\nL 263.755477 201.531514 \r\nL 264.09503 201.04461 \r\nL 264.774138 202.613359 \r\nL 265.113692 204.143629 \r\nL 265.453245 203.699643 \r\nL 266.132353 204.337503 \r\nL 266.471907 203.374054 \r\nL 266.81146 203.070664 \r\nL 267.151014 203.467291 \r\nL 267.490568 202.181213 \r\nL 267.830122 202.26261 \r\nL 268.169675 203.048465 \r\nL 268.509229 201.188165 \r\nL 268.848783 200.489628 \r\nL 269.188337 201.771266 \r\nL 269.52789 201.578872 \r\nL 269.867444 201.136367 \r\nL 270.206998 196.595875 \r\nL 270.546552 197.011741 \r\nL 270.886105 196.174088 \r\nL 271.225659 194.523942 \r\nL 271.904767 185.530275 \r\nL 272.24432 187.386134 \r\nL 272.583874 190.344558 \r\nL 272.923428 188.046193 \r\nL 273.262982 188.590815 \r\nL 273.602535 188.13055 \r\nL 273.942089 188.512378 \r\nL 274.281643 190.424475 \r\nL 274.621197 189.335231 \r\nL 274.960751 188.916405 \r\nL 275.639858 185.858824 \r\nL 276.318966 186.643199 \r\nL 276.658519 184.494308 \r\nL 276.998073 187.486771 \r\nL 277.337627 186.533682 \r\nL 277.677181 186.569201 \r\nL 278.016734 187.227779 \r\nL 278.356288 190.085566 \r\nL 278.695842 190.380077 \r\nL 279.374949 189.580903 \r\nL 279.714503 190.058927 \r\nL 280.054057 190.976497 \r\nL 280.393611 190.504393 \r\nL 280.733164 190.323839 \r\nL 281.072718 188.188268 \r\nL 281.751826 187.83308 \r\nL 282.430933 185.965381 \r\nL 283.449594 187.261818 \r\nL 283.789148 186.555881 \r\nL 284.468256 180.532477 \r\nL 284.807809 180.168409 \r\nL 285.147363 180.893586 \r\nL 285.486917 180.257206 \r\nL 285.826471 173.288113 \r\nL 286.166024 176.347174 \r\nL 286.505578 180.923185 \r\nL 286.845132 179.206441 \r\nL 287.184686 179.338156 \r\nL 287.524239 182.636969 \r\nL 287.863793 183.388784 \r\nL 288.203347 182.265501 \r\nL 288.542901 182.240342 \r\nL 288.882454 183.587098 \r\nL 289.222008 183.091314 \r\nL 289.561562 181.248774 \r\nL 290.240669 180.079612 \r\nL 290.580223 180.615355 \r\nL 290.919777 184.507628 \r\nL 291.259331 185.895823 \r\nL 291.598884 186.333889 \r\nL 291.938438 187.269218 \r\nL 292.277992 192.323254 \r\nL 292.617546 192.514167 \r\nL 292.957099 194.523942 \r\nL 293.296653 193.193465 \r\nL 293.636207 193.66853 \r\nL 293.975761 192.218177 \r\nL 294.315314 193.214185 \r\nL 294.654868 193.446537 \r\nL 294.994422 194.803653 \r\nL 295.333976 194.947208 \r\nL 295.673529 193.751407 \r\nL 296.013083 194.358187 \r\nL 296.352637 194.059237 \r\nL 296.692191 195.562868 \r\nL 297.031744 195.366035 \r\nL 297.371298 195.477031 \r\nL 297.710852 194.831772 \r\nL 298.050406 194.775534 \r\nL 298.389959 194.261991 \r\nL 298.729513 193.96008 \r\nL 299.069067 194.074037 \r\nL 299.408621 192.170819 \r\nL 299.748174 191.793431 \r\nL 300.087728 193.011431 \r\nL 300.766836 194.479543 \r\nL 301.106389 195.459272 \r\nL 301.445943 195.178081 \r\nL 301.785497 195.19436 \r\nL 302.125051 195.962455 \r\nL 302.464604 196.280645 \r\nL 302.804158 199.058514 \r\nL 303.483266 199.570578 \r\nL 303.822819 197.902672 \r\nL 304.162373 197.05318 \r\nL 304.501927 197.215974 \r\nL 304.841481 198.050667 \r\nL 305.181034 198.355537 \r\nL 305.520588 198.126145 \r\nL 306.199696 198.703326 \r\nL 306.539249 198.478373 \r\nL 306.878803 199.259788 \r\nL 307.218357 199.419623 \r\nL 307.557911 201.552233 \r\nL 307.897465 202.008058 \r\nL 308.237018 201.331721 \r\nL 308.576572 201.482676 \r\nL 308.916126 200.328313 \r\nL 309.25568 200.13148 \r\nL 309.595233 200.542906 \r\nL 309.934787 201.210364 \r\nL 311.293002 199.703773 \r\nL 311.97211 200.223237 \r\nL 312.311663 200.198077 \r\nL 312.651217 200.317953 \r\nL 312.990771 199.212429 \r\nL 313.330325 198.965278 \r\nL 313.669878 197.698439 \r\nL 314.009432 195.411913 \r\nL 314.348986 195.043405 \r\nL 314.68854 193.97488 \r\nL 315.028093 194.319709 \r\nL 315.367647 194.433665 \r\nL 315.707201 195.345315 \r\nL 316.046755 195.915097 \r\nL 316.386308 197.229294 \r\nL 316.725862 201.294722 \r\nL 317.065416 201.923701 \r\nL 317.40497 201.000211 \r\nL 318.084077 201.293242 \r\nL 318.423631 200.317953 \r\nL 318.763185 199.720053 \r\nL 319.102738 200.346073 \r\nL 319.442292 200.405271 \r\nL 319.781846 200.637623 \r\nL 320.1214 201.02833 \r\nL 320.460953 201.017971 \r\nL 320.800507 200.221757 \r\nL 321.140061 199.80737 \r\nL 321.479615 198.210502 \r\nL 321.819168 198.394016 \r\nL 322.158722 197.938191 \r\nL 322.498276 199.871008 \r\nL 322.83783 199.888767 \r\nL 323.177383 199.421103 \r\nL 323.516937 199.321946 \r\nL 323.856491 200.41415 \r\nL 324.535598 200.963212 \r\nL 324.875152 201.257723 \r\nL 325.55426 200.887735 \r\nL 325.893813 201.272522 \r\nL 326.233367 201.472316 \r\nL 326.572921 202.959668 \r\nL 326.912475 199.446262 \r\nL 327.252028 197.705838 \r\nL 327.591582 199.233149 \r\nL 327.931136 199.111793 \r\nL 328.27069 198.607129 \r\nL 328.610243 198.786203 \r\nL 328.949797 199.782211 \r\nL 329.289351 199.853249 \r\nL 329.628905 199.675654 \r\nL 329.968458 199.851769 \r\nL 330.647566 198.746245 \r\nL 330.98712 198.431015 \r\nL 331.326673 198.775844 \r\nL 331.666227 199.394464 \r\nL 332.005781 199.748172 \r\nL 332.345335 198.815802 \r\nL 333.024442 199.51582 \r\nL 333.363996 199.213909 \r\nL 333.70355 199.341185 \r\nL 334.043103 199.616456 \r\nL 334.382657 200.1226 \r\nL 334.722211 199.665295 \r\nL 335.061765 200.007164 \r\nL 335.401318 200.867016 \r\nL 335.740872 200.998731 \r\nL 336.080426 201.259203 \r\nL 336.41998 203.159461 \r\nL 336.759533 204.359702 \r\nL 337.778195 205.0464 \r\nL 338.117748 204.159908 \r\nL 338.457302 204.291624 \r\nL 338.796856 203.887597 \r\nL 339.815517 204.787408 \r\nL 340.155071 205.0316 \r\nL 340.494625 204.587615 \r\nL 340.834178 205.186995 \r\nL 341.173732 205.053799 \r\nL 341.513286 205.04936 \r\nL 341.85284 204.73561 \r\nL 342.192394 204.814047 \r\nL 342.531947 205.295032 \r\nL 342.871501 205.580662 \r\nL 343.211055 205.605821 \r\nL 343.550609 205.752337 \r\nL 343.890162 205.767136 \r\nL 344.56927 206.137124 \r\nL 344.908824 207.597837 \r\nL 345.248377 207.279647 \r\nL 345.587931 207.383244 \r\nL 345.927485 208.092141 \r\nL 346.267039 208.220896 \r\nL 346.606592 207.514959 \r\nL 346.946146 207.216009 \r\nL 347.2857 208.065501 \r\nL 347.625254 208.321533 \r\nL 347.964807 207.686634 \r\nL 348.304361 208.479888 \r\nL 348.643915 208.050702 \r\nL 348.983469 206.829742 \r\nL 350.341684 207.963385 \r\nL 350.681237 207.261888 \r\nL 351.020791 207.140531 \r\nL 351.360345 206.663987 \r\nL 351.699899 205.844094 \r\nL 352.039452 205.734577 \r\nL 352.379006 205.32759 \r\nL 352.71856 206.307319 \r\nL 353.058114 205.6517 \r\nL 353.397667 205.32759 \r\nL 353.737221 205.534784 \r\nL 354.076775 205.475586 \r\nL 354.416329 201.94886 \r\nL 354.755882 201.749067 \r\nL 355.095436 202.474243 \r\nL 355.774544 200.692381 \r\nL 356.114097 200.887735 \r\nL 356.453651 202.175293 \r\nL 357.132759 201.916301 \r\nL 358.15142 203.19498 \r\nL 359.170081 201.109728 \r\nL 359.509635 200.841856 \r\nL 359.849189 199.572058 \r\nL 360.528296 199.970165 \r\nL 360.86785 198.59085 \r\nL 361.207404 198.340738 \r\nL 361.546957 198.909039 \r\nL 361.886511 196.458239 \r\nL 362.565619 193.96452 \r\nL 363.244726 193.05879 \r\nL 363.58428 193.251183 \r\nL 363.923834 191.723873 \r\nL 364.263387 186.362008 \r\nL 364.602941 186.086737 \r\nL 364.942495 184.611225 \r\nL 365.282049 184.312274 \r\nL 365.621602 186.680197 \r\nL 365.961156 187.420173 \r\nL 366.30071 184.775499 \r\nL 366.640264 184.737021 \r\nL 366.979817 188.12167 \r\nL 367.319371 187.463092 \r\nL 367.658925 187.710244 \r\nL 367.998479 186.29245 \r\nL 368.338032 186.068977 \r\nL 369.356694 191.860029 \r\nL 369.696247 192.466809 \r\nL 370.035801 192.700641 \r\nL 370.375355 193.489456 \r\nL 370.714909 192.526007 \r\nL 371.054462 192.759839 \r\nL 371.394016 193.36514 \r\nL 371.73357 192.530447 \r\nL 372.073124 190.847742 \r\nL 372.412677 189.786616 \r\nL 372.752231 192.045023 \r\nL 373.091785 196.351683 \r\nL 373.770892 197.190815 \r\nL 374.110446 198.2771 \r\nL 374.45 205.32759 \r\nL 374.45 205.32759 \r\n\" style=\"fill:none;stroke:#1f77b4;stroke-linecap:square;stroke-width:1.5;\"/>\r\n   </g>\r\n   <g id=\"patch_3\">\r\n    <path d=\"M 39.65 224.64 \r\nL 39.65 7.2 \r\n\" style=\"fill:none;stroke:#000000;stroke-linecap:square;stroke-linejoin:miter;stroke-width:0.8;\"/>\r\n   </g>\r\n   <g id=\"patch_4\">\r\n    <path d=\"M 374.45 224.64 \r\nL 374.45 7.2 \r\n\" style=\"fill:none;stroke:#000000;stroke-linecap:square;stroke-linejoin:miter;stroke-width:0.8;\"/>\r\n   </g>\r\n   <g id=\"patch_5\">\r\n    <path d=\"M 39.65 224.64 \r\nL 374.45 224.64 \r\n\" style=\"fill:none;stroke:#000000;stroke-linecap:square;stroke-linejoin:miter;stroke-width:0.8;\"/>\r\n   </g>\r\n   <g id=\"patch_6\">\r\n    <path d=\"M 39.65 7.2 \r\nL 374.45 7.2 \r\n\" style=\"fill:none;stroke:#000000;stroke-linecap:square;stroke-linejoin:miter;stroke-width:0.8;\"/>\r\n   </g>\r\n  </g>\r\n </g>\r\n <defs>\r\n  <clipPath id=\"pa650b4ce3d\">\r\n   <rect height=\"217.44\" width=\"334.8\" x=\"39.65\" y=\"7.2\"/>\r\n  </clipPath>\r\n </defs>\r\n</svg>\r\n",
      "image/png": "[encoded data removed]"
     },
     "metadata": {
      "needs_background": "light"
     }
    }
   ],
   "source": [
    "highs.plot()"
   ]
  },
  {
   "cell_type": "code",
   "execution_count": 20,
   "metadata": {},
   "outputs": [
    {
     "output_type": "execute_result",
     "data": {
      "text/plain": [
       "                 Close    High     Low        Volume\n",
       "Date                                                \n",
       "2017-07-02  268.202162  293.73  253.23  8.084631e+07\n",
       "2017-07-09  261.062083  285.00  231.25  2.246746e+08\n",
       "2017-07-16  195.698393  240.33  130.26  5.017750e+08\n",
       "2017-07-23  212.783750  249.40  153.25  7.221637e+08\n",
       "2017-07-30  203.309524  229.99  178.03  2.657305e+08\n",
       "...                ...     ...     ...           ...\n",
       "2020-02-16  255.198452  290.00  216.31  3.912867e+08\n",
       "2020-02-23  265.321905  287.13  242.36  3.067838e+08\n",
       "2020-03-01  236.373988  278.13  209.26  3.693920e+08\n",
       "2020-03-08  229.817619  253.01  196.00  2.736569e+08\n",
       "2020-03-15  176.332821  208.65   90.00  4.983998e+08\n",
       "\n",
       "[142 rows x 4 columns]"
      ],
      "text/html": "<div>\n<style scoped>\n    .dataframe tbody tr th:only-of-type {\n        vertical-align: middle;\n    }\n\n    .dataframe tbody tr th {\n        vertical-align: top;\n    }\n\n    .dataframe thead th {\n        text-align: right;\n    }\n</style>\n<table border=\"1\" class=\"dataframe\">\n  <thead>\n    <tr style=\"text-align: right;\">\n      <th></th>\n      <th>Close</th>\n      <th>High</th>\n      <th>Low</th>\n      <th>Volume</th>\n    </tr>\n    <tr>\n      <th>Date</th>\n      <th></th>\n      <th></th>\n      <th></th>\n      <th></th>\n    </tr>\n  </thead>\n  <tbody>\n    <tr>\n      <th>2017-07-02</th>\n      <td>268.202162</td>\n      <td>293.73</td>\n      <td>253.23</td>\n      <td>8.084631e+07</td>\n    </tr>\n    <tr>\n      <th>2017-07-09</th>\n      <td>261.062083</td>\n      <td>285.00</td>\n      <td>231.25</td>\n      <td>2.246746e+08</td>\n    </tr>\n    <tr>\n      <th>2017-07-16</th>\n      <td>195.698393</td>\n      <td>240.33</td>\n      <td>130.26</td>\n      <td>5.017750e+08</td>\n    </tr>\n    <tr>\n      <th>2017-07-23</th>\n      <td>212.783750</td>\n      <td>249.40</td>\n      <td>153.25</td>\n      <td>7.221637e+08</td>\n    </tr>\n    <tr>\n      <th>2017-07-30</th>\n      <td>203.309524</td>\n      <td>229.99</td>\n      <td>178.03</td>\n      <td>2.657305e+08</td>\n    </tr>\n    <tr>\n      <th>...</th>\n      <td>...</td>\n      <td>...</td>\n      <td>...</td>\n      <td>...</td>\n    </tr>\n    <tr>\n      <th>2020-02-16</th>\n      <td>255.198452</td>\n      <td>290.00</td>\n      <td>216.31</td>\n      <td>3.912867e+08</td>\n    </tr>\n    <tr>\n      <th>2020-02-23</th>\n      <td>265.321905</td>\n      <td>287.13</td>\n      <td>242.36</td>\n      <td>3.067838e+08</td>\n    </tr>\n    <tr>\n      <th>2020-03-01</th>\n      <td>236.373988</td>\n      <td>278.13</td>\n      <td>209.26</td>\n      <td>3.693920e+08</td>\n    </tr>\n    <tr>\n      <th>2020-03-08</th>\n      <td>229.817619</td>\n      <td>253.01</td>\n      <td>196.00</td>\n      <td>2.736569e+08</td>\n    </tr>\n    <tr>\n      <th>2020-03-15</th>\n      <td>176.332821</td>\n      <td>208.65</td>\n      <td>90.00</td>\n      <td>4.983998e+08</td>\n    </tr>\n  </tbody>\n</table>\n<p>142 rows × 4 columns</p>\n</div>"
     },
     "metadata": {},
     "execution_count": 20
    }
   ],
   "source": [
    "# use different aggregating functions for each column\n",
    "# any columns not defined will be 'dropped'\n",
    "weekly = df.resample('W').agg({'Close': 'mean', 'High': 'max', 'Low': 'min', 'Volume': 'sum'})\n",
    "weekly"
   ]
  },
  {
   "cell_type": "code",
   "execution_count": null,
   "metadata": {},
   "outputs": [],
   "source": []
  }
 ]
}